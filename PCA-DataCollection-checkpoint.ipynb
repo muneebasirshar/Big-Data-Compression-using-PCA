{
 "cells": [
  {
   "cell_type": "code",
   "execution_count": 1,
   "metadata": {},
   "outputs": [
    {
     "name": "stdout",
     "output_type": "stream",
     "text": [
      "1.7.0\n",
      "1.13.3\n",
      "0.20.3\n",
      "2.1.0\n"
     ]
    },
    {
     "data": {
      "text/html": [
       "<div>\n",
       "<style>\n",
       "    .dataframe thead tr:only-child th {\n",
       "        text-align: right;\n",
       "    }\n",
       "\n",
       "    .dataframe thead th {\n",
       "        text-align: left;\n",
       "    }\n",
       "\n",
       "    .dataframe tbody tr th {\n",
       "        vertical-align: top;\n",
       "    }\n",
       "</style>\n",
       "<table border=\"1\" class=\"dataframe\">\n",
       "  <thead>\n",
       "    <tr style=\"text-align: right;\">\n",
       "      <th></th>\n",
       "      <th>0.2</th>\n",
       "      <th>0.4</th>\n",
       "      <th>0.6</th>\n",
       "      <th>0.8</th>\n",
       "      <th>1</th>\n",
       "      <th>1.2</th>\n",
       "      <th>1.4</th>\n",
       "      <th>1.6</th>\n",
       "      <th>1.8</th>\n",
       "      <th>2</th>\n",
       "      <th>...</th>\n",
       "      <th>18.2</th>\n",
       "      <th>18.4</th>\n",
       "      <th>18.6</th>\n",
       "      <th>18.8</th>\n",
       "      <th>19</th>\n",
       "      <th>19.2</th>\n",
       "      <th>19.4</th>\n",
       "      <th>19.6</th>\n",
       "      <th>19.8</th>\n",
       "      <th>20</th>\n",
       "    </tr>\n",
       "  </thead>\n",
       "  <tbody>\n",
       "    <tr>\n",
       "      <th>0</th>\n",
       "      <td>0.337000</td>\n",
       "      <td>0.318000</td>\n",
       "      <td>0.278000</td>\n",
       "      <td>0.224000</td>\n",
       "      <td>0.162000</td>\n",
       "      <td>0.098500</td>\n",
       "      <td>0.04170</td>\n",
       "      <td>-0.003350</td>\n",
       "      <td>-0.033100</td>\n",
       "      <td>-0.046500</td>\n",
       "      <td>...</td>\n",
       "      <td>-0.002880</td>\n",
       "      <td>-0.001590</td>\n",
       "      <td>0.001470</td>\n",
       "      <td>0.006180</td>\n",
       "      <td>0.012100</td>\n",
       "      <td>0.018700</td>\n",
       "      <td>0.025200</td>\n",
       "      <td>0.030800</td>\n",
       "      <td>0.035100</td>\n",
       "      <td>0.037500</td>\n",
       "    </tr>\n",
       "    <tr>\n",
       "      <th>1</th>\n",
       "      <td>0.029200</td>\n",
       "      <td>0.027100</td>\n",
       "      <td>0.022500</td>\n",
       "      <td>0.016000</td>\n",
       "      <td>0.008540</td>\n",
       "      <td>0.001130</td>\n",
       "      <td>-0.00536</td>\n",
       "      <td>-0.010200</td>\n",
       "      <td>-0.012900</td>\n",
       "      <td>-0.013400</td>\n",
       "      <td>...</td>\n",
       "      <td>-0.001830</td>\n",
       "      <td>-0.001830</td>\n",
       "      <td>-0.001550</td>\n",
       "      <td>-0.001010</td>\n",
       "      <td>-0.000263</td>\n",
       "      <td>0.000592</td>\n",
       "      <td>0.001460</td>\n",
       "      <td>0.002230</td>\n",
       "      <td>0.002820</td>\n",
       "      <td>0.003170</td>\n",
       "    </tr>\n",
       "    <tr>\n",
       "      <th>2</th>\n",
       "      <td>0.061100</td>\n",
       "      <td>0.058800</td>\n",
       "      <td>0.054600</td>\n",
       "      <td>0.048900</td>\n",
       "      <td>0.042200</td>\n",
       "      <td>0.035100</td>\n",
       "      <td>0.02800</td>\n",
       "      <td>0.021400</td>\n",
       "      <td>0.015700</td>\n",
       "      <td>0.010800</td>\n",
       "      <td>...</td>\n",
       "      <td>0.001800</td>\n",
       "      <td>0.002590</td>\n",
       "      <td>0.003420</td>\n",
       "      <td>0.004280</td>\n",
       "      <td>0.005140</td>\n",
       "      <td>0.005950</td>\n",
       "      <td>0.006670</td>\n",
       "      <td>0.007240</td>\n",
       "      <td>0.007630</td>\n",
       "      <td>0.007810</td>\n",
       "    </tr>\n",
       "    <tr>\n",
       "      <th>3</th>\n",
       "      <td>0.007110</td>\n",
       "      <td>0.006880</td>\n",
       "      <td>0.006510</td>\n",
       "      <td>0.006020</td>\n",
       "      <td>0.005420</td>\n",
       "      <td>0.004770</td>\n",
       "      <td>0.00407</td>\n",
       "      <td>0.003370</td>\n",
       "      <td>0.002680</td>\n",
       "      <td>0.002020</td>\n",
       "      <td>...</td>\n",
       "      <td>0.000295</td>\n",
       "      <td>0.000410</td>\n",
       "      <td>0.000520</td>\n",
       "      <td>0.000622</td>\n",
       "      <td>0.000715</td>\n",
       "      <td>0.000796</td>\n",
       "      <td>0.000863</td>\n",
       "      <td>0.000912</td>\n",
       "      <td>0.000943</td>\n",
       "      <td>0.000954</td>\n",
       "    </tr>\n",
       "    <tr>\n",
       "      <th>4</th>\n",
       "      <td>0.000584</td>\n",
       "      <td>0.000564</td>\n",
       "      <td>0.000524</td>\n",
       "      <td>0.000467</td>\n",
       "      <td>0.000396</td>\n",
       "      <td>0.000316</td>\n",
       "      <td>0.00023</td>\n",
       "      <td>0.000143</td>\n",
       "      <td>0.000059</td>\n",
       "      <td>-0.000019</td>\n",
       "      <td>...</td>\n",
       "      <td>-0.000042</td>\n",
       "      <td>-0.000023</td>\n",
       "      <td>-0.000002</td>\n",
       "      <td>0.000020</td>\n",
       "      <td>0.000042</td>\n",
       "      <td>0.000062</td>\n",
       "      <td>0.000079</td>\n",
       "      <td>0.000094</td>\n",
       "      <td>0.000103</td>\n",
       "      <td>0.000109</td>\n",
       "    </tr>\n",
       "  </tbody>\n",
       "</table>\n",
       "<p>5 rows × 100 columns</p>\n",
       "</div>"
      ],
      "text/plain": [
       "        0.2       0.4       0.6       0.8         1       1.2      1.4  \\\n",
       "0  0.337000  0.318000  0.278000  0.224000  0.162000  0.098500  0.04170   \n",
       "1  0.029200  0.027100  0.022500  0.016000  0.008540  0.001130 -0.00536   \n",
       "2  0.061100  0.058800  0.054600  0.048900  0.042200  0.035100  0.02800   \n",
       "3  0.007110  0.006880  0.006510  0.006020  0.005420  0.004770  0.00407   \n",
       "4  0.000584  0.000564  0.000524  0.000467  0.000396  0.000316  0.00023   \n",
       "\n",
       "        1.6       1.8         2    ...         18.2      18.4      18.6  \\\n",
       "0 -0.003350 -0.033100 -0.046500    ...    -0.002880 -0.001590  0.001470   \n",
       "1 -0.010200 -0.012900 -0.013400    ...    -0.001830 -0.001830 -0.001550   \n",
       "2  0.021400  0.015700  0.010800    ...     0.001800  0.002590  0.003420   \n",
       "3  0.003370  0.002680  0.002020    ...     0.000295  0.000410  0.000520   \n",
       "4  0.000143  0.000059 -0.000019    ...    -0.000042 -0.000023 -0.000002   \n",
       "\n",
       "       18.8        19      19.2      19.4      19.6      19.8        20  \n",
       "0  0.006180  0.012100  0.018700  0.025200  0.030800  0.035100  0.037500  \n",
       "1 -0.001010 -0.000263  0.000592  0.001460  0.002230  0.002820  0.003170  \n",
       "2  0.004280  0.005140  0.005950  0.006670  0.007240  0.007630  0.007810  \n",
       "3  0.000622  0.000715  0.000796  0.000863  0.000912  0.000943  0.000954  \n",
       "4  0.000020  0.000042  0.000062  0.000079  0.000094  0.000103  0.000109  \n",
       "\n",
       "[5 rows x 100 columns]"
      ]
     },
     "execution_count": 1,
     "metadata": {},
     "output_type": "execute_result"
    }
   ],
   "source": [
    "from __future__ import division, print_function, unicode_literals\n",
    "\n",
    "import numpy as np\n",
    "import pandas as pd\n",
    "import tensorflow as tf\n",
    "get_ipython().magic(u'matplotlib inline')\n",
    "import matplotlib\n",
    "import matplotlib.pyplot as plt\n",
    "\n",
    "from matplotlib.mlab import PCA\n",
    "print(tf.__version__)\n",
    "print(np.__version__)\n",
    "print(pd.__version__)\n",
    "print(matplotlib.__version__)\n",
    "Data = pd.read_csv('C:/Users/muneeba/Desktop/THESIS/DataDistribution/Gaussian4/Gauss4.csv')\n",
    "Data.head()\n",
    "#importing librarie and setting up packages\n",
    "#reading the CSV file containing data\n"
   ]
  },
  {
   "cell_type": "code",
   "execution_count": 2,
   "metadata": {},
   "outputs": [
    {
     "data": {
      "text/html": [
       "<div>\n",
       "<style>\n",
       "    .dataframe thead tr:only-child th {\n",
       "        text-align: right;\n",
       "    }\n",
       "\n",
       "    .dataframe thead th {\n",
       "        text-align: left;\n",
       "    }\n",
       "\n",
       "    .dataframe tbody tr th {\n",
       "        vertical-align: top;\n",
       "    }\n",
       "</style>\n",
       "<table border=\"1\" class=\"dataframe\">\n",
       "  <thead>\n",
       "    <tr style=\"text-align: right;\">\n",
       "      <th></th>\n",
       "      <th>0.2</th>\n",
       "      <th>0.4</th>\n",
       "      <th>0.6</th>\n",
       "      <th>0.8</th>\n",
       "      <th>1</th>\n",
       "      <th>1.2</th>\n",
       "      <th>1.4</th>\n",
       "      <th>1.6</th>\n",
       "      <th>1.8</th>\n",
       "      <th>2</th>\n",
       "      <th>...</th>\n",
       "      <th>11</th>\n",
       "      <th>11.2</th>\n",
       "      <th>11.4</th>\n",
       "      <th>11.6</th>\n",
       "      <th>11.8</th>\n",
       "      <th>12</th>\n",
       "      <th>12.2</th>\n",
       "      <th>12.4</th>\n",
       "      <th>12.6</th>\n",
       "      <th>12.8</th>\n",
       "    </tr>\n",
       "  </thead>\n",
       "  <tbody>\n",
       "    <tr>\n",
       "      <th>0</th>\n",
       "      <td>0.337000</td>\n",
       "      <td>0.318000</td>\n",
       "      <td>0.278000</td>\n",
       "      <td>0.224000</td>\n",
       "      <td>0.162000</td>\n",
       "      <td>0.098500</td>\n",
       "      <td>0.04170</td>\n",
       "      <td>-0.003350</td>\n",
       "      <td>-0.033100</td>\n",
       "      <td>-0.046500</td>\n",
       "      <td>...</td>\n",
       "      <td>0.058700</td>\n",
       "      <td>0.039500</td>\n",
       "      <td>0.021900</td>\n",
       "      <td>0.007580</td>\n",
       "      <td>-0.002450</td>\n",
       "      <td>-0.007840</td>\n",
       "      <td>-0.008950</td>\n",
       "      <td>-0.006690</td>\n",
       "      <td>-0.002410</td>\n",
       "      <td>0.002340</td>\n",
       "    </tr>\n",
       "    <tr>\n",
       "      <th>1</th>\n",
       "      <td>0.029200</td>\n",
       "      <td>0.027100</td>\n",
       "      <td>0.022500</td>\n",
       "      <td>0.016000</td>\n",
       "      <td>0.008540</td>\n",
       "      <td>0.001130</td>\n",
       "      <td>-0.00536</td>\n",
       "      <td>-0.010200</td>\n",
       "      <td>-0.012900</td>\n",
       "      <td>-0.013400</td>\n",
       "      <td>...</td>\n",
       "      <td>0.003210</td>\n",
       "      <td>0.000919</td>\n",
       "      <td>-0.001120</td>\n",
       "      <td>-0.002690</td>\n",
       "      <td>-0.003640</td>\n",
       "      <td>-0.003940</td>\n",
       "      <td>-0.003630</td>\n",
       "      <td>-0.002810</td>\n",
       "      <td>-0.001680</td>\n",
       "      <td>-0.000442</td>\n",
       "    </tr>\n",
       "    <tr>\n",
       "      <th>2</th>\n",
       "      <td>0.061100</td>\n",
       "      <td>0.058800</td>\n",
       "      <td>0.054600</td>\n",
       "      <td>0.048900</td>\n",
       "      <td>0.042200</td>\n",
       "      <td>0.035100</td>\n",
       "      <td>0.02800</td>\n",
       "      <td>0.021400</td>\n",
       "      <td>0.015700</td>\n",
       "      <td>0.010800</td>\n",
       "      <td>...</td>\n",
       "      <td>0.015500</td>\n",
       "      <td>0.013100</td>\n",
       "      <td>0.010700</td>\n",
       "      <td>0.008460</td>\n",
       "      <td>0.006400</td>\n",
       "      <td>0.004590</td>\n",
       "      <td>0.003050</td>\n",
       "      <td>0.001720</td>\n",
       "      <td>0.000550</td>\n",
       "      <td>-0.000543</td>\n",
       "    </tr>\n",
       "    <tr>\n",
       "      <th>3</th>\n",
       "      <td>0.007110</td>\n",
       "      <td>0.006880</td>\n",
       "      <td>0.006510</td>\n",
       "      <td>0.006020</td>\n",
       "      <td>0.005420</td>\n",
       "      <td>0.004770</td>\n",
       "      <td>0.00407</td>\n",
       "      <td>0.003370</td>\n",
       "      <td>0.002680</td>\n",
       "      <td>0.002020</td>\n",
       "      <td>...</td>\n",
       "      <td>0.002000</td>\n",
       "      <td>0.001760</td>\n",
       "      <td>0.001520</td>\n",
       "      <td>0.001260</td>\n",
       "      <td>0.001010</td>\n",
       "      <td>0.000767</td>\n",
       "      <td>0.000530</td>\n",
       "      <td>0.000303</td>\n",
       "      <td>0.000087</td>\n",
       "      <td>-0.000120</td>\n",
       "    </tr>\n",
       "    <tr>\n",
       "      <th>4</th>\n",
       "      <td>0.000584</td>\n",
       "      <td>0.000564</td>\n",
       "      <td>0.000524</td>\n",
       "      <td>0.000467</td>\n",
       "      <td>0.000396</td>\n",
       "      <td>0.000316</td>\n",
       "      <td>0.00023</td>\n",
       "      <td>0.000143</td>\n",
       "      <td>0.000059</td>\n",
       "      <td>-0.000019</td>\n",
       "      <td>...</td>\n",
       "      <td>0.000163</td>\n",
       "      <td>0.000126</td>\n",
       "      <td>0.000087</td>\n",
       "      <td>0.000047</td>\n",
       "      <td>0.000009</td>\n",
       "      <td>-0.000027</td>\n",
       "      <td>-0.000057</td>\n",
       "      <td>-0.000081</td>\n",
       "      <td>-0.000098</td>\n",
       "      <td>-0.000109</td>\n",
       "    </tr>\n",
       "  </tbody>\n",
       "</table>\n",
       "<p>5 rows × 64 columns</p>\n",
       "</div>"
      ],
      "text/plain": [
       "        0.2       0.4       0.6       0.8         1       1.2      1.4  \\\n",
       "0  0.337000  0.318000  0.278000  0.224000  0.162000  0.098500  0.04170   \n",
       "1  0.029200  0.027100  0.022500  0.016000  0.008540  0.001130 -0.00536   \n",
       "2  0.061100  0.058800  0.054600  0.048900  0.042200  0.035100  0.02800   \n",
       "3  0.007110  0.006880  0.006510  0.006020  0.005420  0.004770  0.00407   \n",
       "4  0.000584  0.000564  0.000524  0.000467  0.000396  0.000316  0.00023   \n",
       "\n",
       "        1.6       1.8         2    ...           11      11.2      11.4  \\\n",
       "0 -0.003350 -0.033100 -0.046500    ...     0.058700  0.039500  0.021900   \n",
       "1 -0.010200 -0.012900 -0.013400    ...     0.003210  0.000919 -0.001120   \n",
       "2  0.021400  0.015700  0.010800    ...     0.015500  0.013100  0.010700   \n",
       "3  0.003370  0.002680  0.002020    ...     0.002000  0.001760  0.001520   \n",
       "4  0.000143  0.000059 -0.000019    ...     0.000163  0.000126  0.000087   \n",
       "\n",
       "       11.6      11.8        12      12.2      12.4      12.6      12.8  \n",
       "0  0.007580 -0.002450 -0.007840 -0.008950 -0.006690 -0.002410  0.002340  \n",
       "1 -0.002690 -0.003640 -0.003940 -0.003630 -0.002810 -0.001680 -0.000442  \n",
       "2  0.008460  0.006400  0.004590  0.003050  0.001720  0.000550 -0.000543  \n",
       "3  0.001260  0.001010  0.000767  0.000530  0.000303  0.000087 -0.000120  \n",
       "4  0.000047  0.000009 -0.000027 -0.000057 -0.000081 -0.000098 -0.000109  \n",
       "\n",
       "[5 rows x 64 columns]"
      ]
     },
     "execution_count": 2,
     "metadata": {},
     "output_type": "execute_result"
    }
   ],
   "source": [
    "#Data=Data.sort_values(['Sensor ID'],ascending=[True])\n",
    "Data1=Data.iloc[:,0:64]\n",
    "Data1.head()\n",
    "returns = Data1[[key for key in dict(Data1.dtypes) if dict(Data1.dtypes)[key] in ['float64', 'int64']]] \n",
    "returns = returns[:64]\n",
    "returns.head()\n",
    " \n",
    "#slicing the required data out of complete dataset"
   ]
  },
  {
   "cell_type": "code",
   "execution_count": 116,
   "metadata": {},
   "outputs": [
    {
     "data": {
      "text/plain": [
       "array([[-0.0981906 , -0.09458148, -0.08261367, ..., -0.05801111,\n",
       "        -0.08849143, -0.11640317],\n",
       "       [ 0.16924152,  0.17065096,  0.1738493 , ..., -0.20943285,\n",
       "        -0.19524248, -0.17467911],\n",
       "       [-0.09480392, -0.0964568 , -0.10328978, ..., -0.00463606,\n",
       "        -0.02632165, -0.04222678],\n",
       "       ..., \n",
       "       [-0.04937288,  0.09306949, -0.1409078 , ...,  0.03233669,\n",
       "        -0.04978519, -0.07927338],\n",
       "       [-0.08649649,  0.03140228, -0.04772738, ...,  0.04884297,\n",
       "         0.13247138, -0.10174752],\n",
       "       [ 0.        , -0.15976953,  0.03532517, ..., -0.08166008,\n",
       "        -0.21067817,  0.04529522]])"
      ]
     },
     "execution_count": 116,
     "metadata": {},
     "output_type": "execute_result"
    }
   ],
   "source": [
    "returns_arr = returns.as_matrix()[:65]\n",
    " \n",
    "from sklearn.preprocessing import StandardScaler\n",
    "scaler = StandardScaler()\n",
    "returns_arr_scaled = scaler.fit_transform(returns_arr)\n",
    "#returns_arr_scaled1=returns_arr_scaled.T\n",
    "#returns_arr_scaled=returns_arr\n",
    "returns_arr_scaled\n",
    "results = PCA(returns_arr_scaled, standardize=True)\n",
    "results.fracs\n",
    "results.Y\n",
    "results.Wt\n",
    "#constructing matrix out of data set\n",
    "#performing PCA getting the required fractions and wieghts"
   ]
  },
  {
   "cell_type": "code",
   "execution_count": 117,
   "metadata": {},
   "outputs": [
    {
     "data": {
      "text/plain": [
       "0.08316355832803371"
      ]
     },
     "execution_count": 117,
     "metadata": {},
     "output_type": "execute_result"
    }
   ],
   "source": [
    "\n",
    "#recovered=np.dot(results.Y, results.Wt)\n",
    "recovered=np.dot(results.Y[:,[0,1,2]], results.Wt[[0,1,2]])\n",
    "data=scaler.inverse_transform(recovered,copy=None)\n",
    "#recovered\n",
    "#data\n",
    "orig=np.linalg.norm(returns_arr,ord=1)\n",
    "DiffData=data-returns_arr\n",
    "NewNorm=np.linalg.norm(DiffData,ord=1)\n",
    "error=NewNorm/orig \n",
    "error\n",
    "#recovering the orignal data\n",
    "#bringing data back to normal scale\n",
    "#finding error\n"
   ]
  },
  {
   "cell_type": "code",
   "execution_count": 118,
   "metadata": {},
   "outputs": [
    {
     "name": "stdout",
     "output_type": "stream",
     "text": [
      "[ 0.52779467  0.26574518  0.19481397]\n",
      "5.30820992061e-05\n"
     ]
    }
   ],
   "source": [
    "from sklearn.decomposition import PCA\n",
    "pca = PCA(n_components=3)\n",
    "pca.fit(returns_arr)\n",
    "print(pca.explained_variance_ratio_)\n",
    "print(pca.noise_variance_ )"
   ]
  },
  {
   "cell_type": "code",
   "execution_count": 35,
   "metadata": {},
   "outputs": [
    {
     "data": {
      "image/png": "[encoded data removed]",
      "text/plain": [
       "<matplotlib.figure.Figure at 0x43762f1198>"
      ]
     },
     "metadata": {},
     "output_type": "display_data"
    }
   ],
   "source": [
    "plt.plot( data[0:60,0],data[0:60,1], 'o', markersize=5, color='blue', alpha=0.5, label='orignal data')\n",
    "plt.plot(returns_arr[0:60,0], returns_arr[0:60,1], '^', markersize=5, color='red', alpha=0.5, label='transformed data')\n",
    "\n",
    "plt.xlabel('x_values')\n",
    "plt.ylabel('y_values')\n",
    "plt.xlim([-0.01,0.4])\n",
    "plt.ylim([-0.01,0.4])\n",
    "plt.legend()\n",
    "plt.title('Transformed samples with class labels from matplotlib.mlab.PCA()')\n",
    "\n",
    "plt.show()\n",
    " \n",
    "#transformed data and orignal data.comparison"
   ]
  },
  {
   "cell_type": "code",
   "execution_count": 8,
   "metadata": {
    "collapsed": true
   },
   "outputs": [],
   "source": [
    "cov_mat = np.cov(Data1)\n",
    "#np.savetxt(\"covmat1.csv\", cov_mat, delimiter=\",\")\n",
    "#np.argmin(cov_mat)\n",
    "indices = np.where(cov_mat >=cov_mat.min())\n",
    "x_y_coords =  zip(indices[0], indices[1]) \n",
    "#finding covariance that is not needed now"
   ]
  },
  {
   "cell_type": "code",
   "execution_count": 9,
   "metadata": {},
   "outputs": [
    {
     "data": {
      "text/plain": [
       "1326"
      ]
     },
     "execution_count": 9,
     "metadata": {},
     "output_type": "execute_result"
    }
   ],
   "source": [
    "a=np.corrcoef(Data1,rowvar=True)\n",
    "i=0\n",
    "j=0\n",
    "\n",
    "for step1 in range(64):\n",
    "    for step in range(64):\n",
    "       if (a[step1][step]):\n",
    "           i+=1\n",
    "l=np.zeros((64,64))        \n",
    "c=np.triu(a)\n",
    "k=0\n",
    "for step1 in range(64):\n",
    "    for step in range(64):\n",
    "       if (c[step1][step]) > 0 and (c[step1][step]) <= 0.8 :\n",
    "           l[step1][step]=c[step1][step]\n",
    "           j+=1\n",
    "          \n",
    "      \n",
    "          \n",
    "rows_without_zeros = data[~np.any(l==0, axis=1)]\n",
    "rows_without_zeros\n",
    "np.shape(l)\n",
    "j\n",
    "#finding the sensor which fullfull the corelation threshold"
   ]
  },
  {
   "cell_type": "code",
   "execution_count": 10,
   "metadata": {},
   "outputs": [
    {
     "data": {
      "text/plain": [
       "(64, 64)"
      ]
     },
     "execution_count": 10,
     "metadata": {},
     "output_type": "execute_result"
    }
   ],
   "source": [
    "datadiff=[]\n",
    "step1=0\n",
    "for step in range(64):\n",
    "    step1=step-1\n",
    "    diff=Data1.iloc[:,step]-Data1.iloc[:,step1]\n",
    "    datadiff.append(diff[:])\n",
    "        \n",
    "np.shape(datadiff)\n",
    "#finding the data differnce matrix "
   ]
  },
  {
   "cell_type": "code",
   "execution_count": 11,
   "metadata": {},
   "outputs": [
    {
     "data": {
      "text/plain": [
       "682"
      ]
     },
     "execution_count": 11,
     "metadata": {},
     "output_type": "execute_result"
    }
   ],
   "source": [
    "kk=10**3\n",
    "datathreshold=kk * np.array(datadiff)\n",
    "k=0\n",
    "l1=np.zeros((64,64))\n",
    "np.shape(datathreshold)\n",
    "for step1 in range(64):\n",
    "    for step in range(64):\n",
    "       if (abs(datathreshold[step1][step]))>=10:\n",
    "           l1[step1][step]=datathreshold[step1][step]\n",
    "           k+=1\n",
    "        \n",
    "        \n",
    "k\n",
    "#setting up data thresold"
   ]
  },
  {
   "cell_type": "code",
   "execution_count": 12,
   "metadata": {},
   "outputs": [
    {
     "data": {
      "text/plain": [
       "21"
      ]
     },
     "execution_count": 12,
     "metadata": {},
     "output_type": "execute_result"
    }
   ],
   "source": [
    "#clustering\n",
    "clustermembers=0\n",
    "counta=0\n",
    "clusterA=np.zeros((64,64))\n",
    "countb=0\n",
    "clusterB=np.zeros((64,64))\n",
    "countc=0\n",
    "clusterC=np.zeros((64,64))\n",
    "for step1 in range(64):\n",
    "    for step in range(64):\n",
    "       if (l1[step1][step]>0):\n",
    "         if (l[step1][step]>0):\n",
    "           clustermembers+=1\n",
    "           if(clustermembers<=25):\n",
    "               clusterA[step1][step]=returns_arr[step1][step]                \n",
    "               counta+=1\n",
    "           if(clustermembers>25) and (clustermembers<=50):\n",
    "               clusterB[step1][step]=returns_arr[step1][step]                \n",
    "               countb+=1\n",
    "           if(clustermembers>50):\n",
    "               clusterC[step1][step]=returns_arr[step1][step]                \n",
    "               countc+=1\n",
    "     \n",
    "        \n",
    "            \n",
    "#number of nodes satisfying both the thresholds            \n",
    "clustermembers\n",
    "\n",
    "clusterA\n",
    "np.count_nonzero(clusterC)\n",
    " "
   ]
  },
  {
   "cell_type": "code",
   "execution_count": null,
   "metadata": {
    "collapsed": true
   },
   "outputs": [],
   "source": []
  },
  {
   "cell_type": "code",
   "execution_count": 13,
   "metadata": {},
   "outputs": [
    {
     "data": {
      "text/plain": [
       "4025"
      ]
     },
     "execution_count": 13,
     "metadata": {},
     "output_type": "execute_result"
    }
   ],
   "source": [
    "#clusters of remaining members not satisfying threshold\n",
    "#larger clusters made \n",
    "clustermembersrRemaining=0\n",
    "countd=0\n",
    "clusterD=np.zeros((64,64))\n",
    "counte=0\n",
    "clusterE=np.zeros((64,64))\n",
    "countf=0\n",
    "clusterF=np.zeros((64,64))\n",
    "countg=0\n",
    "clusterG=np.zeros((64,64))\n",
    "counth=0\n",
    "clusterH=np.zeros((64,64))\n",
    "for step1 in range(64):\n",
    "    for step in range(64):\n",
    "        clustermembersrRemaining+=1\n",
    "        if(clustermembersrRemaining>=72) :#and (clustermembersrRemaining<=1072):\n",
    "            clusterD[step1][step]=returns_arr[step1][step]\n",
    "            countd+=1\n",
    "       # if(clustermembersrRemaining>1072) and (clustermembersrRemaining<2072):\n",
    "          #  clusterE[step1][step]=returns_arr[step1][step]\n",
    "            #counte+=1\n",
    "       # if(clustermembersrRemaining>=2072)and clustermembersrRemaining<3072:\n",
    "          #  clusterF[step1][step]=returns_arr[step1][step]\n",
    "           # countf+=1\n",
    "       # if(clustermembersrRemaining>=3072)and clustermembersrRemaining<=4072:\n",
    "        #    clusterG[step1][step]=returns_arr[step1][step]\n",
    "           # countg+=1\n",
    "       # if(clustermembersrRemaining>4072):\n",
    "        #    clusterH[step1][step]=returns_arr[step1][step]\n",
    "            counth+=1\n",
    "        #    \n",
    "#countf+countd+counte+countg+counth\n",
    "countd\n",
    "np.count_nonzero(clusterD)"
   ]
  },
  {
   "cell_type": "code",
   "execution_count": 14,
   "metadata": {},
   "outputs": [
    {
     "data": {
      "text/plain": [
       "90"
      ]
     },
     "execution_count": 14,
     "metadata": {},
     "output_type": "execute_result"
    }
   ],
   "source": [
    "#finding the nodes which donot satisfy the threshold\n",
    "#finding the nodes which donot satisfy the threshold\n",
    "DatasetWithoutA=np.subtract(returns_arr,clusterA)\n",
    "DatasetWithoutAB=np.subtract(DatasetWithoutA,clusterB)\n",
    "DatasetWithoutABC=np.subtract(DatasetWithoutAB,clusterC)\n",
    "DatasetWithoutABCD=np.subtract(DatasetWithoutABC,clusterD)\n",
    "#DatasetWithoutABCDE=np.subtract(DatasetWithoutABCD,clusterE)\n",
    "#DatasetWithoutABCDEF=np.subtract(DatasetWithoutABCDE,clusterF)\n",
    "#DatasetWithoutABCDEFG=np.subtract(DatasetWithoutABCDEF,clusterG)\n",
    "#DatasetWithoutABCDEFGH=np.subtract(DatasetWithoutABCDEFG,clusterH)\n",
    "np.count_nonzero(DatasetWithoutABCD)"
   ]
  },
  {
   "cell_type": "code",
   "execution_count": 15,
   "metadata": {},
   "outputs": [
    {
     "data": {
      "text/plain": [
       "4051"
      ]
     },
     "execution_count": 15,
     "metadata": {},
     "output_type": "execute_result"
    }
   ],
   "source": [
    "DataSend=np.zeros((64,64))\n",
    "DataSend=np.add(DataSend,clusterA)\n",
    "DataSend=np.add(DataSend,clusterB)\n",
    "DataSend=np.add(DataSend,clusterC)\n",
    "DataSend=np.add(DataSend,clusterD)\n",
    "DataSend=np.add(DataSend,clusterE)\n",
    "DataSend=np.add(DataSend,clusterF)\n",
    "np.count_nonzero(DataSend)\n",
    "rows_without_zeros = data[~np.any(DataSend==0, axis=0)]\n",
    "rows_without_zeros\n",
    "DataSend.shape\n",
    "np.count_nonzero(DataSend)\n",
    "rows_without_zeros\n",
    "np.count_nonzero(DataSend)"
   ]
  },
  {
   "cell_type": "code",
   "execution_count": 16,
   "metadata": {},
   "outputs": [
    {
     "data": {
      "text/plain": [
       "(3, 4)"
      ]
     },
     "execution_count": 16,
     "metadata": {},
     "output_type": "execute_result"
    }
   ],
   "source": [
    "arr = np.array([[1,2,3,4], [5,6,7,8], [9,10,11,12]])\n",
    "np.shape(arr)\n",
    " \n",
    "np.delete(arr, 2,0)\n",
    "np.shape(arr)"
   ]
  },
  {
   "cell_type": "code",
   "execution_count": null,
   "metadata": {
    "collapsed": true
   },
   "outputs": [],
   "source": []
  },
  {
   "cell_type": "code",
   "execution_count": null,
   "metadata": {
    "collapsed": true
   },
   "outputs": [],
   "source": []
  },
  {
   "cell_type": "code",
   "execution_count": null,
   "metadata": {
    "collapsed": true
   },
   "outputs": [],
   "source": []
  },
  {
   "cell_type": "code",
   "execution_count": null,
   "metadata": {
    "collapsed": true
   },
   "outputs": [],
   "source": []
  },
  {
   "cell_type": "code",
   "execution_count": null,
   "metadata": {
    "collapsed": true
   },
   "outputs": [],
   "source": []
  }
 ],
 "metadata": {
  "kernelspec": {
   "display_name": "Python 3",
   "language": "python",
   "name": "python3"
  },
  "language_info": {
   "codemirror_mode": {
    "name": "ipython",
    "version": 3
   },
   "file_extension": ".py",
   "mimetype": "text/x-python",
   "name": "python",
   "nbconvert_exporter": "python",
   "pygments_lexer": "ipython3",
   "version": "3.6.3"
  }
 },
 "nbformat": 4,
 "nbformat_minor": 2
}
