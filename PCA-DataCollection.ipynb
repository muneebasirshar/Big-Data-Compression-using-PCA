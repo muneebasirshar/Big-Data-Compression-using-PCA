{
 "cells": [
  {
   "cell_type": "code",
   "execution_count": 355,
   "metadata": {},
   "outputs": [
    {
     "name": "stdout",
     "output_type": "stream",
     "text": [
      "1.13.3\n",
      "0.20.3\n",
      "2.1.0\n"
     ]
    },
    {
     "data": {
      "text/html": [
       "<div>\n",
       "<style>\n",
       "    .dataframe thead tr:only-child th {\n",
       "        text-align: right;\n",
       "    }\n",
       "\n",
       "    .dataframe thead th {\n",
       "        text-align: left;\n",
       "    }\n",
       "\n",
       "    .dataframe tbody tr th {\n",
       "        vertical-align: top;\n",
       "    }\n",
       "</style>\n",
       "<table border=\"1\" class=\"dataframe\">\n",
       "  <thead>\n",
       "    <tr style=\"text-align: right;\">\n",
       "      <th></th>\n",
       "      <th>0.2</th>\n",
       "      <th>0.4</th>\n",
       "      <th>0.6</th>\n",
       "      <th>0.8</th>\n",
       "      <th>1</th>\n",
       "      <th>1.2</th>\n",
       "      <th>1.4</th>\n",
       "      <th>1.6</th>\n",
       "      <th>1.8</th>\n",
       "      <th>2</th>\n",
       "      <th>...</th>\n",
       "      <th>18.2</th>\n",
       "      <th>18.4</th>\n",
       "      <th>18.6</th>\n",
       "      <th>18.8</th>\n",
       "      <th>19</th>\n",
       "      <th>19.2</th>\n",
       "      <th>19.4</th>\n",
       "      <th>19.6</th>\n",
       "      <th>19.8</th>\n",
       "      <th>20</th>\n",
       "    </tr>\n",
       "  </thead>\n",
       "  <tbody>\n",
       "    <tr>\n",
       "      <th>0</th>\n",
       "      <td>0.189000</td>\n",
       "      <td>0.184000</td>\n",
       "      <td>0.17600</td>\n",
       "      <td>0.166000</td>\n",
       "      <td>0.153000</td>\n",
       "      <td>0.139000</td>\n",
       "      <td>0.122000</td>\n",
       "      <td>0.105000</td>\n",
       "      <td>0.086500</td>\n",
       "      <td>0.067300</td>\n",
       "      <td>...</td>\n",
       "      <td>0.009670</td>\n",
       "      <td>0.013100</td>\n",
       "      <td>0.016100</td>\n",
       "      <td>0.018800</td>\n",
       "      <td>0.021100</td>\n",
       "      <td>0.022900</td>\n",
       "      <td>0.024300</td>\n",
       "      <td>0.025300</td>\n",
       "      <td>0.025800</td>\n",
       "      <td>0.025900</td>\n",
       "    </tr>\n",
       "    <tr>\n",
       "      <th>1</th>\n",
       "      <td>0.157000</td>\n",
       "      <td>0.153000</td>\n",
       "      <td>0.14600</td>\n",
       "      <td>0.138000</td>\n",
       "      <td>0.127000</td>\n",
       "      <td>0.115000</td>\n",
       "      <td>0.102000</td>\n",
       "      <td>0.087100</td>\n",
       "      <td>0.071800</td>\n",
       "      <td>0.055900</td>\n",
       "      <td>...</td>\n",
       "      <td>0.008030</td>\n",
       "      <td>0.010800</td>\n",
       "      <td>0.013400</td>\n",
       "      <td>0.015600</td>\n",
       "      <td>0.017500</td>\n",
       "      <td>0.019000</td>\n",
       "      <td>0.020200</td>\n",
       "      <td>0.021000</td>\n",
       "      <td>0.021400</td>\n",
       "      <td>0.021500</td>\n",
       "    </tr>\n",
       "    <tr>\n",
       "      <th>2</th>\n",
       "      <td>0.051500</td>\n",
       "      <td>0.050100</td>\n",
       "      <td>0.04790</td>\n",
       "      <td>0.045100</td>\n",
       "      <td>0.041600</td>\n",
       "      <td>0.037700</td>\n",
       "      <td>0.033300</td>\n",
       "      <td>0.028500</td>\n",
       "      <td>0.023500</td>\n",
       "      <td>0.018300</td>\n",
       "      <td>...</td>\n",
       "      <td>0.002630</td>\n",
       "      <td>0.003550</td>\n",
       "      <td>0.004380</td>\n",
       "      <td>0.005110</td>\n",
       "      <td>0.005730</td>\n",
       "      <td>0.006230</td>\n",
       "      <td>0.006610</td>\n",
       "      <td>0.006880</td>\n",
       "      <td>0.007020</td>\n",
       "      <td>0.007050</td>\n",
       "    </tr>\n",
       "    <tr>\n",
       "      <th>3</th>\n",
       "      <td>0.006690</td>\n",
       "      <td>0.006510</td>\n",
       "      <td>0.00622</td>\n",
       "      <td>0.005850</td>\n",
       "      <td>0.005400</td>\n",
       "      <td>0.004880</td>\n",
       "      <td>0.004300</td>\n",
       "      <td>0.003680</td>\n",
       "      <td>0.003020</td>\n",
       "      <td>0.002340</td>\n",
       "      <td>...</td>\n",
       "      <td>0.000330</td>\n",
       "      <td>0.000451</td>\n",
       "      <td>0.000561</td>\n",
       "      <td>0.000658</td>\n",
       "      <td>0.000740</td>\n",
       "      <td>0.000808</td>\n",
       "      <td>0.000860</td>\n",
       "      <td>0.000897</td>\n",
       "      <td>0.000917</td>\n",
       "      <td>0.000921</td>\n",
       "    </tr>\n",
       "    <tr>\n",
       "      <th>4</th>\n",
       "      <td>0.000579</td>\n",
       "      <td>0.000559</td>\n",
       "      <td>0.00052</td>\n",
       "      <td>0.000465</td>\n",
       "      <td>0.000396</td>\n",
       "      <td>0.000317</td>\n",
       "      <td>0.000233</td>\n",
       "      <td>0.000147</td>\n",
       "      <td>0.000063</td>\n",
       "      <td>-0.000015</td>\n",
       "      <td>...</td>\n",
       "      <td>-0.000041</td>\n",
       "      <td>-0.000022</td>\n",
       "      <td>-0.000001</td>\n",
       "      <td>0.000021</td>\n",
       "      <td>0.000042</td>\n",
       "      <td>0.000062</td>\n",
       "      <td>0.000079</td>\n",
       "      <td>0.000093</td>\n",
       "      <td>0.000103</td>\n",
       "      <td>0.000108</td>\n",
       "    </tr>\n",
       "  </tbody>\n",
       "</table>\n",
       "<p>5 rows × 100 columns</p>\n",
       "</div>"
      ],
      "text/plain": [
       "        0.2       0.4      0.6       0.8         1       1.2       1.4  \\\n",
       "0  0.189000  0.184000  0.17600  0.166000  0.153000  0.139000  0.122000   \n",
       "1  0.157000  0.153000  0.14600  0.138000  0.127000  0.115000  0.102000   \n",
       "2  0.051500  0.050100  0.04790  0.045100  0.041600  0.037700  0.033300   \n",
       "3  0.006690  0.006510  0.00622  0.005850  0.005400  0.004880  0.004300   \n",
       "4  0.000579  0.000559  0.00052  0.000465  0.000396  0.000317  0.000233   \n",
       "\n",
       "        1.6       1.8         2    ...         18.2      18.4      18.6  \\\n",
       "0  0.105000  0.086500  0.067300    ...     0.009670  0.013100  0.016100   \n",
       "1  0.087100  0.071800  0.055900    ...     0.008030  0.010800  0.013400   \n",
       "2  0.028500  0.023500  0.018300    ...     0.002630  0.003550  0.004380   \n",
       "3  0.003680  0.003020  0.002340    ...     0.000330  0.000451  0.000561   \n",
       "4  0.000147  0.000063 -0.000015    ...    -0.000041 -0.000022 -0.000001   \n",
       "\n",
       "       18.8        19      19.2      19.4      19.6      19.8        20  \n",
       "0  0.018800  0.021100  0.022900  0.024300  0.025300  0.025800  0.025900  \n",
       "1  0.015600  0.017500  0.019000  0.020200  0.021000  0.021400  0.021500  \n",
       "2  0.005110  0.005730  0.006230  0.006610  0.006880  0.007020  0.007050  \n",
       "3  0.000658  0.000740  0.000808  0.000860  0.000897  0.000917  0.000921  \n",
       "4  0.000021  0.000042  0.000062  0.000079  0.000093  0.000103  0.000108  \n",
       "\n",
       "[5 rows x 100 columns]"
      ]
     },
     "execution_count": 355,
     "metadata": {},
     "output_type": "execute_result"
    }
   ],
   "source": [
    "from __future__ import division, print_function, unicode_literals\n",
    "\n",
    "import numpy as np\n",
    "import pandas as pd\n",
    "#import tensorflow as tf\n",
    "get_ipython().magic(u'matplotlib inline')\n",
    "import matplotlib\n",
    "import matplotlib.pyplot as plt\n",
    "\n",
    "from matplotlib.mlab import PCA\n",
    "#print(tf.__version__)\n",
    "print(np.__version__)\n",
    "print(pd.__version__)\n",
    "print(matplotlib.__version__)\n",
    "Data = pd.read_csv('C:/Users/muneeba/Desktop/THESIS/DataDistribution/Gaussian2/gaussian2/gauss2.csv')\n",
    "Data.head()\n",
    "#importing librarie and setting up packages\n",
    "#reading the CSV file containing data"
   ]
  },
  {
   "cell_type": "code",
   "execution_count": 356,
   "metadata": {},
   "outputs": [
    {
     "data": {
      "text/html": [
       "<div>\n",
       "<style>\n",
       "    .dataframe thead tr:only-child th {\n",
       "        text-align: right;\n",
       "    }\n",
       "\n",
       "    .dataframe thead th {\n",
       "        text-align: left;\n",
       "    }\n",
       "\n",
       "    .dataframe tbody tr th {\n",
       "        vertical-align: top;\n",
       "    }\n",
       "</style>\n",
       "<table border=\"1\" class=\"dataframe\">\n",
       "  <thead>\n",
       "    <tr style=\"text-align: right;\">\n",
       "      <th></th>\n",
       "      <th>0.2</th>\n",
       "      <th>0.4</th>\n",
       "      <th>0.6</th>\n",
       "      <th>0.8</th>\n",
       "      <th>1</th>\n",
       "      <th>1.2</th>\n",
       "      <th>1.4</th>\n",
       "      <th>1.6</th>\n",
       "      <th>1.8</th>\n",
       "      <th>2</th>\n",
       "      <th>...</th>\n",
       "      <th>11</th>\n",
       "      <th>11.2</th>\n",
       "      <th>11.4</th>\n",
       "      <th>11.6</th>\n",
       "      <th>11.8</th>\n",
       "      <th>12</th>\n",
       "      <th>12.2</th>\n",
       "      <th>12.4</th>\n",
       "      <th>12.6</th>\n",
       "      <th>12.8</th>\n",
       "    </tr>\n",
       "  </thead>\n",
       "  <tbody>\n",
       "    <tr>\n",
       "      <th>0</th>\n",
       "      <td>0.189000</td>\n",
       "      <td>0.184000</td>\n",
       "      <td>0.17600</td>\n",
       "      <td>0.166000</td>\n",
       "      <td>0.153000</td>\n",
       "      <td>0.139000</td>\n",
       "      <td>0.122000</td>\n",
       "      <td>0.105000</td>\n",
       "      <td>0.086500</td>\n",
       "      <td>0.067300</td>\n",
       "      <td>...</td>\n",
       "      <td>0.056300</td>\n",
       "      <td>0.051000</td>\n",
       "      <td>0.045000</td>\n",
       "      <td>0.038600</td>\n",
       "      <td>0.03180</td>\n",
       "      <td>0.024800</td>\n",
       "      <td>0.017600</td>\n",
       "      <td>0.010500</td>\n",
       "      <td>0.003440</td>\n",
       "      <td>-0.003370</td>\n",
       "    </tr>\n",
       "    <tr>\n",
       "      <th>1</th>\n",
       "      <td>0.157000</td>\n",
       "      <td>0.153000</td>\n",
       "      <td>0.14600</td>\n",
       "      <td>0.138000</td>\n",
       "      <td>0.127000</td>\n",
       "      <td>0.115000</td>\n",
       "      <td>0.102000</td>\n",
       "      <td>0.087100</td>\n",
       "      <td>0.071800</td>\n",
       "      <td>0.055900</td>\n",
       "      <td>...</td>\n",
       "      <td>0.046800</td>\n",
       "      <td>0.042300</td>\n",
       "      <td>0.037400</td>\n",
       "      <td>0.032000</td>\n",
       "      <td>0.02640</td>\n",
       "      <td>0.020600</td>\n",
       "      <td>0.014600</td>\n",
       "      <td>0.008700</td>\n",
       "      <td>0.002860</td>\n",
       "      <td>-0.002800</td>\n",
       "    </tr>\n",
       "    <tr>\n",
       "      <th>2</th>\n",
       "      <td>0.051500</td>\n",
       "      <td>0.050100</td>\n",
       "      <td>0.04790</td>\n",
       "      <td>0.045100</td>\n",
       "      <td>0.041600</td>\n",
       "      <td>0.037700</td>\n",
       "      <td>0.033300</td>\n",
       "      <td>0.028500</td>\n",
       "      <td>0.023500</td>\n",
       "      <td>0.018300</td>\n",
       "      <td>...</td>\n",
       "      <td>0.015300</td>\n",
       "      <td>0.013900</td>\n",
       "      <td>0.012200</td>\n",
       "      <td>0.010500</td>\n",
       "      <td>0.00865</td>\n",
       "      <td>0.006730</td>\n",
       "      <td>0.004790</td>\n",
       "      <td>0.002850</td>\n",
       "      <td>0.000934</td>\n",
       "      <td>-0.000918</td>\n",
       "    </tr>\n",
       "    <tr>\n",
       "      <th>3</th>\n",
       "      <td>0.006690</td>\n",
       "      <td>0.006510</td>\n",
       "      <td>0.00622</td>\n",
       "      <td>0.005850</td>\n",
       "      <td>0.005400</td>\n",
       "      <td>0.004880</td>\n",
       "      <td>0.004300</td>\n",
       "      <td>0.003680</td>\n",
       "      <td>0.003020</td>\n",
       "      <td>0.002340</td>\n",
       "      <td>...</td>\n",
       "      <td>0.001990</td>\n",
       "      <td>0.001800</td>\n",
       "      <td>0.001580</td>\n",
       "      <td>0.001350</td>\n",
       "      <td>0.00111</td>\n",
       "      <td>0.000858</td>\n",
       "      <td>0.000604</td>\n",
       "      <td>0.000351</td>\n",
       "      <td>0.000103</td>\n",
       "      <td>-0.000136</td>\n",
       "    </tr>\n",
       "    <tr>\n",
       "      <th>4</th>\n",
       "      <td>0.000579</td>\n",
       "      <td>0.000559</td>\n",
       "      <td>0.00052</td>\n",
       "      <td>0.000465</td>\n",
       "      <td>0.000396</td>\n",
       "      <td>0.000317</td>\n",
       "      <td>0.000233</td>\n",
       "      <td>0.000147</td>\n",
       "      <td>0.000063</td>\n",
       "      <td>-0.000015</td>\n",
       "      <td>...</td>\n",
       "      <td>0.000163</td>\n",
       "      <td>0.000127</td>\n",
       "      <td>0.000088</td>\n",
       "      <td>0.000048</td>\n",
       "      <td>0.00001</td>\n",
       "      <td>-0.000025</td>\n",
       "      <td>-0.000056</td>\n",
       "      <td>-0.000080</td>\n",
       "      <td>-0.000098</td>\n",
       "      <td>-0.000109</td>\n",
       "    </tr>\n",
       "  </tbody>\n",
       "</table>\n",
       "<p>5 rows × 64 columns</p>\n",
       "</div>"
      ],
      "text/plain": [
       "        0.2       0.4      0.6       0.8         1       1.2       1.4  \\\n",
       "0  0.189000  0.184000  0.17600  0.166000  0.153000  0.139000  0.122000   \n",
       "1  0.157000  0.153000  0.14600  0.138000  0.127000  0.115000  0.102000   \n",
       "2  0.051500  0.050100  0.04790  0.045100  0.041600  0.037700  0.033300   \n",
       "3  0.006690  0.006510  0.00622  0.005850  0.005400  0.004880  0.004300   \n",
       "4  0.000579  0.000559  0.00052  0.000465  0.000396  0.000317  0.000233   \n",
       "\n",
       "        1.6       1.8         2    ...           11      11.2      11.4  \\\n",
       "0  0.105000  0.086500  0.067300    ...     0.056300  0.051000  0.045000   \n",
       "1  0.087100  0.071800  0.055900    ...     0.046800  0.042300  0.037400   \n",
       "2  0.028500  0.023500  0.018300    ...     0.015300  0.013900  0.012200   \n",
       "3  0.003680  0.003020  0.002340    ...     0.001990  0.001800  0.001580   \n",
       "4  0.000147  0.000063 -0.000015    ...     0.000163  0.000127  0.000088   \n",
       "\n",
       "       11.6     11.8        12      12.2      12.4      12.6      12.8  \n",
       "0  0.038600  0.03180  0.024800  0.017600  0.010500  0.003440 -0.003370  \n",
       "1  0.032000  0.02640  0.020600  0.014600  0.008700  0.002860 -0.002800  \n",
       "2  0.010500  0.00865  0.006730  0.004790  0.002850  0.000934 -0.000918  \n",
       "3  0.001350  0.00111  0.000858  0.000604  0.000351  0.000103 -0.000136  \n",
       "4  0.000048  0.00001 -0.000025 -0.000056 -0.000080 -0.000098 -0.000109  \n",
       "\n",
       "[5 rows x 64 columns]"
      ]
     },
     "execution_count": 356,
     "metadata": {},
     "output_type": "execute_result"
    }
   ],
   "source": [
    "#Data=Data.sort_values(['Sensor ID'],ascending=[True])\n",
    "Data1=Data.iloc[:,0:64]\n",
    "Data1.head()\n",
    "returns = Data1[[key for key in dict(Data1.dtypes) if dict(Data1.dtypes)[key] in ['float64', 'int64']]] \n",
    "returns = returns[:64]\n",
    "returns.head()\n",
    "#slicing the required data out of complete dataset"
   ]
  },
  {
   "cell_type": "code",
   "execution_count": 357,
   "metadata": {},
   "outputs": [
    {
     "name": "stdout",
     "output_type": "stream",
     "text": [
      "[[ 0.18261503  0.38786811  0.83849872 ..., -1.45670137 -1.06356407\n",
      "  -0.08042369]\n",
      " [ 0.18261503  0.38786811  0.83849872 ..., -1.45670137 -1.06356407\n",
      "  -0.08042369]\n",
      " [ 0.18261503  0.38786811  0.83849872 ..., -1.45670137 -1.06356407\n",
      "  -0.08042369]\n",
      " ..., \n",
      " [ 0.18261503  0.38786811  0.83849872 ..., -1.45670137 -1.06356407\n",
      "  -0.08042369]\n",
      " [ 0.18261503  0.38786811  0.83849872 ..., -1.45670137 -1.06356407\n",
      "  -0.08042369]\n",
      " [ 0.18261503  0.38786811  0.83849872 ..., -1.45670137 -1.06356407\n",
      "  -0.08042369]]\n",
      "Wall time: 3.99 ms\n"
     ]
    }
   ],
   "source": [
    "\n",
    "%%time\n",
    "returns_arr = returns.as_matrix()[:64]\n",
    "returns_arr.shape\n",
    "from sklearn.preprocessing import StandardScaler\n",
    "scaler = StandardScaler()\n",
    "returns_arr_scaled = scaler.fit_transform(returns_arr)\n",
    "#returns_arr_scaled1=returns_arr_scaled.T\n",
    "#returns_arr_scaled=returns_arr\n",
    "n_cols = 64\n",
    "noise = np.random.normal(0, 1, [n_cols])\n",
    "print(returns_arr_scaled-(returns_arr_scaled+noise))\n",
    "returns_arr_scaled=returns_arr_scaled+noise\n",
    "results = PCA(returns_arr_scaled, standardize=False)\n",
    "\n",
    "#constructing matrix out of data set\n",
    "#performing PCA getting the required fractions and wieghts"
   ]
  },
  {
   "cell_type": "code",
   "execution_count": 351,
   "metadata": {},
   "outputs": [
    {
     "data": {
      "text/plain": [
       "0.00050552024877574997"
      ]
     },
     "execution_count": 351,
     "metadata": {},
     "output_type": "execute_result"
    }
   ],
   "source": [
    "#recovered=np.dot(results.Y, results.Wt)\n",
    "recovered=np.dot(results.Y[:,[0,1,2,3,4]], results.Wt[[0,1,2,3,4]])\n",
    "data=scaler.inverse_transform(recovered,copy=None)\n",
    "#recovered\n",
    "#data\n",
    "orig=np.linalg.norm(returns_arr,ord=1)\n",
    "DiffData=data-returns_arr\n",
    "NewNorm=np.linalg.norm(DiffData,ord=1)\n",
    "error=NewNorm/orig \n",
    "error\n",
    "#recovering the orignal data\n",
    "#bringing data back to normal scale\n",
    "#finding error"
   ]
  },
  {
   "cell_type": "code",
   "execution_count": 342,
   "metadata": {},
   "outputs": [
    {
     "data": {
      "image/png": "[encoded data removed]",
      "text/plain": [
       "<matplotlib.figure.Figure at 0x1cb6572e48>"
      ]
     },
     "metadata": {},
     "output_type": "display_data"
    }
   ],
   "source": [
    "plt.plot( data[0:60,0],data[0:60,1], 'o', markersize=5, color='blue', alpha=0.5, label='orignal data')\n",
    "plt.plot(returns_arr[0:60,0], returns_arr[0:60,1], '^', markersize=5, color='red', alpha=0.5, label='transformed data')\n",
    "\n",
    "plt.xlabel('x_values')\n",
    "plt.ylabel('y_values')\n",
    "plt.xlim([-0.01,0.4])\n",
    "plt.ylim([-0.01,0.4])\n",
    "plt.legend()\n",
    "plt.title('Transformed samples with class labels from matplotlib.mlab.PCA()')\n",
    "\n",
    "plt.show()\n",
    " \n",
    "#transformed data and orignal data.comparison"
   ]
  },
  {
   "cell_type": "code",
   "execution_count": 343,
   "metadata": {
    "collapsed": true
   },
   "outputs": [],
   "source": [
    "cov_mat = np.cov(Data1)\n",
    "#np.savetxt(\"covmat1.csv\", cov_mat, delimiter=\",\")\n",
    "#np.argmin(cov_mat)\n",
    "indices = np.where(cov_mat >=cov_mat.min())\n",
    "x_y_coords =  zip(indices[0], indices[1]) \n",
    "#finding covariance that is not needed now"
   ]
  },
  {
   "cell_type": "code",
   "execution_count": 322,
   "metadata": {},
   "outputs": [
    {
     "data": {
      "text/plain": [
       "(64, 64)"
      ]
     },
     "execution_count": 322,
     "metadata": {},
     "output_type": "execute_result"
    }
   ],
   "source": [
    "a=np.corrcoef(Data1,rowvar=True)\n",
    "i=0\n",
    "j=0\n",
    "\n",
    "for step1 in range(64):\n",
    "    for step in range(64):\n",
    "       if (a[step1][step]):\n",
    "           i+=1\n",
    "l=np.zeros((64,64))        \n",
    "c=np.triu(a)\n",
    "k=0\n",
    "for step1 in range(64):\n",
    "    for step in range(64):\n",
    "       if (c[step1][step]) > 0 and (c[step1][step]) <= 0.8 :\n",
    "           l[step1][step]=c[step1][step]\n",
    "           j+=1\n",
    "          \n",
    "      \n",
    "          \n",
    "rows_without_zeros = data[~np.any(l==0, axis=1)]\n",
    "rows_without_zeros\n",
    "np.shape(l)\n",
    "\n",
    "#finding the sensor which fullfull the corelation threshold"
   ]
  },
  {
   "cell_type": "code",
   "execution_count": 323,
   "metadata": {},
   "outputs": [
    {
     "data": {
      "text/plain": [
       "(64, 64)"
      ]
     },
     "execution_count": 323,
     "metadata": {},
     "output_type": "execute_result"
    }
   ],
   "source": [
    "datadiff=[]\n",
    "step1=0\n",
    "for step in range(64):\n",
    "    step1=step-1\n",
    "    diff=Data1.iloc[:,step]-Data1.iloc[:,step1]\n",
    "    datadiff.append(diff[:])\n",
    "        \n",
    "np.shape(datadiff)\n",
    "#finding the data differnce matrix "
   ]
  },
  {
   "cell_type": "code",
   "execution_count": 324,
   "metadata": {},
   "outputs": [
    {
     "data": {
      "text/plain": [
       "194"
      ]
     },
     "execution_count": 324,
     "metadata": {},
     "output_type": "execute_result"
    }
   ],
   "source": [
    "kk=10**3\n",
    "datathreshold=kk * np.array(datadiff)\n",
    "k=0\n",
    "l1=np.zeros((64,64))\n",
    "np.shape(datathreshold)\n",
    "for step1 in range(64):\n",
    "    for step in range(64):\n",
    "       if (abs(datathreshold[step1][step]))>=25:\n",
    "           l1[step1][step]=datathreshold[step1][step]\n",
    "           k+=1\n",
    "        \n",
    "        \n",
    "k\n",
    "#setting up data thresold"
   ]
  },
  {
   "cell_type": "code",
   "execution_count": 325,
   "metadata": {},
   "outputs": [
    {
     "data": {
      "text/plain": [
       "14"
      ]
     },
     "execution_count": 325,
     "metadata": {},
     "output_type": "execute_result"
    }
   ],
   "source": [
    "#clustering\n",
    "clustermembers=0\n",
    "counta=0\n",
    "clusterA=np.zeros((64,64))\n",
    "countb=0\n",
    "clusterB=np.zeros((64,64))\n",
    "countc=0\n",
    "clusterC=np.zeros((64,64))\n",
    "for step1 in range(0,64):\n",
    "    for step in range(0,64):\n",
    "       if (l1[step1][step]>0):\n",
    "         if (l[step1][step]>0):\n",
    "           clustermembers+=1\n",
    "           if(clustermembers<=14): \n",
    "               if clusterA[step1][step]==0: \n",
    "                   clusterA[step1][step]=returns_arr[step1][step]                \n",
    "                   counta+=1\n",
    "           if(clustermembers>14) and (clustermembers<=28):\n",
    "               if clusterA[step1][step]==0:\n",
    "                   if clusterB[step1][step]==0:\n",
    "                       clusterB[step1][step]=returns_arr[step1][step]                \n",
    "                       countb+=1\n",
    "           if(clustermembers>28):\n",
    "               if clusterA[step1][step]==0:\n",
    "                   if clusterB[step1][step]==0:\n",
    "                       if clusterC[step1][step]==0:\n",
    "                           clusterC[step1][step]=returns_arr[step1][step]                \n",
    "                           countc+=1\n",
    "     \n",
    "        \n",
    "            \n",
    "#number of nodes satisfying both the thresholds            \n",
    "clustermembers\n",
    "\n",
    "#clusterA\n",
    "np.count_nonzero(clusterA)\n",
    "#np.savetxt(\"A.csv\", clusterA, delimiter='')\n"
   ]
  },
  {
   "cell_type": "code",
   "execution_count": null,
   "metadata": {},
   "outputs": [],
   "source": [
    " "
   ]
  },
  {
   "cell_type": "code",
   "execution_count": 326,
   "metadata": {},
   "outputs": [
    {
     "data": {
      "text/plain": [
       "4035"
      ]
     },
     "execution_count": 326,
     "metadata": {},
     "output_type": "execute_result"
    }
   ],
   "source": [
    "#clusters of remaining members not satisfying threshold\n",
    "#larger clusters made \n",
    "clustermembersrRemaining=0\n",
    "countd=0\n",
    "clusterD=np.zeros((64,64))\n",
    "counte=0\n",
    "clusterE=np.zeros((64,64))\n",
    "countf=0\n",
    "clusterF=np.zeros((64,64))\n",
    "countg=0\n",
    "clusterG=np.zeros((64,64))\n",
    "counth=0\n",
    "clusterH=np.zeros((64,64))\n",
    "for step1 in range(0,64):\n",
    "    for step in range(0,64):\n",
    "        clustermembersrRemaining+=1\n",
    "        if(clustermembersrRemaining>=38):\n",
    "            if clusterA[step1][step]==0:\n",
    "                   if clusterB[step1][step]==0:\n",
    "                       if clusterC[step1][step]==0:\n",
    "                            if clusterD[step1][step]==0:#and (clustermembersrRemaining<=1072):\n",
    "                                clusterD[step1][step]=returns_arr[step1][step]\n",
    "                                countd+=1\n",
    "       # if(clustermembersrRemaining>1072) and (clustermembersrRemaining<2072):\n",
    "          #  clusterE[step1][step]=returns_arr[step1][step]\n",
    "            #counte+=1\n",
    "       # if(clustermembersrRemaining>=2072)and clustermembersrRemaining<3072:\n",
    "          #  clusterF[step1][step]=returns_arr[step1][step]\n",
    "           # countf+=1\n",
    "       # if(clustermembersrRemaining>=3072)and clustermembersrRemaining<=4072:\n",
    "        #    clusterG[step1][step]=returns_arr[step1][step]\n",
    "           # countg+=1\n",
    "       # if(clustermembersrRemaining>4072):\n",
    "        #    clusterH[step1][step]=returns_arr[step1][step]\n",
    "          #  counth+=1\n",
    "        #    \n",
    "#countf+countd+counte+countg+counth\n",
    "countd\n",
    "np.count_nonzero(clusterD)"
   ]
  },
  {
   "cell_type": "code",
   "execution_count": 327,
   "metadata": {},
   "outputs": [
    {
     "data": {
      "text/plain": [
       "30"
      ]
     },
     "execution_count": 327,
     "metadata": {},
     "output_type": "execute_result"
    }
   ],
   "source": [
    "#finding the nodes which donot satisfy the threshold\n",
    "#finding the nodes which donot satisfy the threshold\n",
    "DatasetWithoutA=np.subtract(returns_arr,clusterA)\n",
    "DatasetWithoutAB=np.subtract(DatasetWithoutA,clusterB)\n",
    "DatasetWithoutABC=np.subtract(DatasetWithoutAB,clusterC)\n",
    "DatasetWithoutABCD=np.subtract(DatasetWithoutABC,clusterD)\n",
    "#DatasetWithoutABCDE=np.subtract(DatasetWithoutABCD,clusterE)\n",
    "#DatasetWithoutABCDEF=np.subtract(DatasetWithoutABCDE,clusterF)\n",
    "#DatasetWithoutABCDEFG=np.subtract(DatasetWithoutABCDEF,clusterG)\n",
    "#DatasetWithoutABCDEFGH=np.subtract(DatasetWithoutABCDEFG,clusterH)\n",
    "np.count_nonzero(DatasetWithoutABCD)"
   ]
  },
  {
   "cell_type": "code",
   "execution_count": 328,
   "metadata": {},
   "outputs": [
    {
     "data": {
      "text/plain": [
       "4066"
      ]
     },
     "execution_count": 328,
     "metadata": {},
     "output_type": "execute_result"
    }
   ],
   "source": [
    "DataSend=np.zeros((64,64))\n",
    "DataSend=np.add(DataSend,clusterA)\n",
    "DataSend=np.add(DataSend,clusterB)\n",
    "DataSend=np.add(DataSend,clusterC)\n",
    "DataSend=np.add(DataSend,clusterD)\n",
    "np.count_nonzero(DataSend)\n",
    " "
   ]
  },
  {
   "cell_type": "code",
   "execution_count": 329,
   "metadata": {},
   "outputs": [
    {
     "data": {
      "text/plain": [
       "0.84895265953806331"
      ]
     },
     "execution_count": 329,
     "metadata": {},
     "output_type": "execute_result"
    }
   ],
   "source": [
    "scaler1 = StandardScaler()\n",
    "returns_arr_scaled1 = scaler1.fit_transform(clusterA)\n",
    "#returns_arr_scaled1=returns_arr_scaled.T\n",
    "#returns_arr_scaled=returns_arr\n",
    "returns_arr_scaled1\n",
    "results1 = PCA(returns_arr_scaled1, standardize=False)\n",
    "results1.fracs\n",
    "results1.Y\n",
    "results1.Wt\n",
    "#constructing matrix out of data set\n",
    "#performing PCA getting the required fractions and wieghts\n",
    "recovered1=np.dot(results1.Y[:,[0]], results1.Wt[[0]])\n",
    "data1=scaler1.inverse_transform(recovered1,copy=None)\n",
    "#recovered\n",
    "#data\n",
    "orig1=np.linalg.norm(clusterA,ord=1)\n",
    "DiffData1=data1-clusterA\n",
    "NewNorm1=np.linalg.norm(DiffData1,ord=1)\n",
    "error1=NewNorm1/orig1\n",
    "error1"
   ]
  },
  {
   "cell_type": "code",
   "execution_count": 330,
   "metadata": {},
   "outputs": [
    {
     "data": {
      "text/plain": [
       "0.47657995821095928"
      ]
     },
     "execution_count": 330,
     "metadata": {},
     "output_type": "execute_result"
    }
   ],
   "source": [
    "scaler2 = StandardScaler()\n",
    "returns_arr_scaled2 = scaler2.fit_transform(clusterB)\n",
    "#returns_arr_scaled1=returns_arr_scaled.T\n",
    "#returns_arr_scaled=returns_arr\n",
    "returns_arr_scaled2\n",
    "results2 = PCA(returns_arr_scaled2, standardize=False)\n",
    "results2.fracs\n",
    "results2.Y\n",
    "results2.Wt\n",
    "#constructing matrix out of data set\n",
    "#performing PCA getting the required fractions and wieghts\n",
    "recovered2=np.dot(results2.Y[:,[0]], results2.Wt[[0]])\n",
    "data2=scaler2.inverse_transform(recovered2,copy=None)\n",
    "#recovered\n",
    "#data\n",
    "orig2=np.linalg.norm(clusterB,ord=1)\n",
    "DiffData2=data2-clusterB\n",
    "NewNorm2=np.linalg.norm(DiffData2,ord=1)\n",
    "error2=NewNorm2/orig2\n",
    "error2"
   ]
  },
  {
   "cell_type": "code",
   "execution_count": 331,
   "metadata": {},
   "outputs": [
    {
     "data": {
      "text/plain": [
       "1.4002791876956679e-12"
      ]
     },
     "execution_count": 331,
     "metadata": {},
     "output_type": "execute_result"
    }
   ],
   "source": [
    "scaler3 = StandardScaler()\n",
    "returns_arr_scaled3 = scaler3.fit_transform(clusterC)\n",
    "#returns_arr_scaled1=returns_arr_scaled.T\n",
    "#returns_arr_scaled=returns_arr\n",
    "returns_arr_scaled3\n",
    "results3 = PCA(returns_arr_scaled3, standardize=False)\n",
    "results3.fracs\n",
    "results3.Y\n",
    "results3.Wt\n",
    "#constructing matrix out of data set\n",
    "#performing PCA getting the required fractions and wieghts\n",
    "recovered3=np.dot(results3.Y[:,[0]], results3.Wt[[0]])\n",
    "data3=scaler3.inverse_transform(recovered3,copy=None)\n",
    "#recovered\n",
    "#data\n",
    "orig3=np.linalg.norm(clusterC,ord=1)\n",
    "DiffData3=data3-clusterC\n",
    "NewNorm3=np.linalg.norm(DiffData3,ord=1)\n",
    "error3=NewNorm3/orig3\n",
    "error3\n"
   ]
  },
  {
   "cell_type": "code",
   "execution_count": 332,
   "metadata": {},
   "outputs": [
    {
     "data": {
      "text/plain": [
       "0.67307338683135409"
      ]
     },
     "execution_count": 332,
     "metadata": {},
     "output_type": "execute_result"
    }
   ],
   "source": [
    "scaler4 = StandardScaler()\n",
    "returns_arr_scaled4 = scaler4.fit_transform(clusterD)\n",
    "#returns_arr_scaled1=returns_arr_scaled.T\n",
    "#returns_arr_scaled=returns_arr\n",
    "returns_arr_scaled4\n",
    "results4 = PCA(returns_arr_scaled4, standardize=False)\n",
    "results4.fracs\n",
    "results4.Y\n",
    "results4.Wt\n",
    "#constructing matrix out of data set\n",
    "#performing PCA getting the required fractions and wieghts\n",
    "recovered4=np.dot(results4.Y[:,[0]], results4.Wt[[0]])\n",
    "data4=scaler4.inverse_transform(recovered4,copy=None)\n",
    "#recovered\n",
    "#data\n",
    "orig4=np.linalg.norm(clusterD,ord=1)\n",
    "DiffData4=data4-clusterD\n",
    "NewNorm4=np.linalg.norm(DiffData4,ord=1)\n",
    "error4=NewNorm4/orig4\n",
    "error4"
   ]
  },
  {
   "cell_type": "code",
   "execution_count": 333,
   "metadata": {},
   "outputs": [
    {
     "data": {
      "text/plain": [
       "0.44184420591680756"
      ]
     },
     "execution_count": 333,
     "metadata": {},
     "output_type": "execute_result"
    }
   ],
   "source": [
    "avgErrorScheme=(error1+error2+error3)/3\n",
    "avgErrorScheme"
   ]
  },
  {
   "cell_type": "code",
   "execution_count": 334,
   "metadata": {},
   "outputs": [
    {
     "data": {
      "text/plain": [
       "0.49965150114544421"
      ]
     },
     "execution_count": 334,
     "metadata": {},
     "output_type": "execute_result"
    }
   ],
   "source": [
    "TotalError=(error1+error2+error3+error4)/4\n",
    "TotalError"
   ]
  },
  {
   "cell_type": "code",
   "execution_count": 335,
   "metadata": {},
   "outputs": [
    {
     "data": {
      "text/plain": [
       "0.67360644578069195"
      ]
     },
     "execution_count": 335,
     "metadata": {},
     "output_type": "execute_result"
    }
   ],
   "source": [
    "RecoveredData=np.add(data1,data2)\n",
    "RecoveredData2=np.add(RecoveredData,data3)\n",
    "RecoveredData3=np.add(RecoveredData2,data4)\n",
    "np.shape(RecoveredData3)\n",
    "origdata=np.linalg.norm(returns_arr,ord=1)\n",
    "DiffDataall=RecoveredData3-returns_arr\n",
    "NewNormData=np.linalg.norm(DiffDataall,ord=1)\n",
    "errorData=NewNormData/origdata\n",
    "errorData "
   ]
  },
  {
   "cell_type": "code",
   "execution_count": 314,
   "metadata": {},
   "outputs": [
    {
     "name": "stdout",
     "output_type": "stream",
     "text": [
      "[ 0.61188316]\n"
     ]
    }
   ],
   "source": [
    "from sklearn.decomposition import PCA\n",
    " \n",
    "pca = PCA(n_components=1)\n",
    "pca.fit(returns_arr)\n",
    "print(pca.explained_variance_ratio_)"
   ]
  },
  {
   "cell_type": "code",
   "execution_count": 262,
   "metadata": {},
   "outputs": [
    {
     "name": "stdout",
     "output_type": "stream",
     "text": [
      "0.000730413390877\n"
     ]
    }
   ],
   "source": [
    "print(pca.noise_variance_)"
   ]
  },
  {
   "cell_type": "code",
   "execution_count": null,
   "metadata": {
    "collapsed": true
   },
   "outputs": [],
   "source": []
  }
 ],
 "metadata": {
  "kernelspec": {
   "display_name": "Python 3",
   "language": "python",
   "name": "python3"
  },
  "language_info": {
   "codemirror_mode": {
    "name": "ipython",
    "version": 3
   },
   "file_extension": ".py",
   "mimetype": "text/x-python",
   "name": "python",
   "nbconvert_exporter": "python",
   "pygments_lexer": "ipython3",
   "version": "3.6.3"
  }
 },
 "nbformat": 4,
 "nbformat_minor": 2
}
