{
 "cells": [
  {
   "cell_type": "code",
   "execution_count": 80,
   "metadata": {},
   "outputs": [],
   "source": [
    "import pandas as pd\n",
    "import tensorflow as tf\n",
    "import numpy as np\n",
    "from __future__ import absolute_import, division, print_function\n",
    "import sklearn\n",
    "from sklearn.model_selection import train_test_split\n",
    "Data = pd.read_csv('C:/Users/muneeba/Desktop/THESIS/DataDistribution/Gaussian3/DataDistributionPCA.csv')\n",
    "Data.head()\n",
    "#importing librarie and setting up packages\n",
    "#reading the CSV file containing data\n",
    "\n",
    "Data=Data.sort_values(['Sensor ID'],ascending=[True])\n",
    "Data1=Data.iloc[:,4:68]\n",
    "Data1.head()\n",
    "returns = Data1[[key for key in dict(Data1.dtypes) if dict(Data1.dtypes)[key] in ['float64', 'int64']]] \n",
    "returns = returns[:64]\n",
    "returns.head()\n",
    "returns_arr = returns.as_matrix()[:64]"
   ]
  },
  {
   "cell_type": "code",
   "execution_count": 122,
   "metadata": {},
   "outputs": [],
   "source": [
    "noise = np.random.normal(0,1, [64,64])\n",
    "returns_arr2=returns_arr+noise\n",
    "from matplotlib.mlab import PCA\n",
    "import matplotlib.pyplot as plt\n",
    "from sklearn.preprocessing import StandardScaler\n",
    " "
   ]
  },
  {
   "cell_type": "code",
   "execution_count": 132,
   "metadata": {},
   "outputs": [
    {
     "name": "stdout",
     "output_type": "stream",
     "text": [
      "[[-0.22909483  0.32316767 -0.26881236 ...,  0.82529196  0.49291827\n",
      "   2.01021665]\n",
      " [-0.22909483  0.32316767 -0.26881236 ...,  0.82529196  0.49291827\n",
      "   2.01021665]\n",
      " [-0.22909483  0.32316767 -0.26881236 ...,  0.82529196  0.49291827\n",
      "   2.01021665]\n",
      " ..., \n",
      " [-0.22909483  0.32316767 -0.26881236 ...,  0.82529196  0.49291827\n",
      "   2.01021665]\n",
      " [-0.22909483  0.32316767 -0.26881236 ...,  0.82529196  0.49291827\n",
      "   2.01021665]\n",
      " [-0.22909483  0.32316767 -0.26881236 ...,  0.82529196  0.49291827\n",
      "   2.01021665]]\n"
     ]
    },
    {
     "data": {
      "text/plain": [
       "0.96386606640739014"
      ]
     },
     "execution_count": 132,
     "metadata": {},
     "output_type": "execute_result"
    }
   ],
   "source": [
    "#recovered=np.dot(results.Y, results.Wt)\n",
    "from sklearn.preprocessing import StandardScaler\n",
    "scaler = StandardScaler()\n",
    "returns_arr_scaled = scaler.fit_transform(returns_arr2)\n",
    "#returns_arr_scaled1=returns_arr_scaled.T\n",
    "#returns_arr_scaled=returns_arr\n",
    "n_cols = 64\n",
    " \n",
    "print(returns_arr_scaled-(returns_arr_scaled+noise))\n",
    "returns_arr_scaled=returns_arr_scaled+noise\n",
    "results = PCA(returns_arr_scaled)\n",
    "recovered=np.dot(results.Y[:,[0,1,2]], results.Wt[[0,1,2]])\n",
    "#recovered=recovered+noise\n",
    "data=scaler.inverse_transform(recovered,copy=None)\n",
    "#recovered\n",
    "#data\n",
    "#data=data-noise\n",
    "orig=np.linalg.norm(returns_arr2,ord=1)\n",
    "DiffData=data-returns_arr2\n",
    "NewNorm=np.linalg.norm(DiffData,ord=1)\n",
    "error=NewNorm/orig \n",
    "error\n",
    "#recovering the orignal data\n",
    "#bringing data back to normal scale\n",
    "#finding error"
   ]
  },
  {
   "cell_type": "code",
   "execution_count": null,
   "metadata": {
    "collapsed": true
   },
   "outputs": [],
   "source": []
  },
  {
   "cell_type": "code",
   "execution_count": null,
   "metadata": {
    "collapsed": true
   },
   "outputs": [],
   "source": []
  },
  {
   "cell_type": "code",
   "execution_count": null,
   "metadata": {
    "collapsed": true
   },
   "outputs": [],
   "source": []
  }
 ],
 "metadata": {
  "kernelspec": {
   "display_name": "Python 3",
   "language": "python",
   "name": "python3"
  },
  "language_info": {
   "codemirror_mode": {
    "name": "ipython",
    "version": 3
   },
   "file_extension": ".py",
   "mimetype": "text/x-python",
   "name": "python",
   "nbconvert_exporter": "python",
   "pygments_lexer": "ipython3",
   "version": "3.6.3"
  }
 },
 "nbformat": 4,
 "nbformat_minor": 2
}
