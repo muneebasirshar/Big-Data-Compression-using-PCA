{
 "cells": [
  {
   "cell_type": "code",
   "execution_count": 145,
   "metadata": {},
   "outputs": [
    {
     "name": "stdout",
     "output_type": "stream",
     "text": [
      "1.4.0\n",
      "1.13.3\n",
      "0.20.3\n",
      "2.1.0\n"
     ]
    },
    {
     "data": {
      "text/html": [
       "<div>\n",
       "<style>\n",
       "    .dataframe thead tr:only-child th {\n",
       "        text-align: right;\n",
       "    }\n",
       "\n",
       "    .dataframe thead th {\n",
       "        text-align: left;\n",
       "    }\n",
       "\n",
       "    .dataframe tbody tr th {\n",
       "        vertical-align: top;\n",
       "    }\n",
       "</style>\n",
       "<table border=\"1\" class=\"dataframe\">\n",
       "  <thead>\n",
       "    <tr style=\"text-align: right;\">\n",
       "      <th></th>\n",
       "      <th>Sensor ID</th>\n",
       "      <th>x-cordinate</th>\n",
       "      <th>y-cordinate</th>\n",
       "      <th>Distibution Values</th>\n",
       "      <th>0.2</th>\n",
       "      <th>0.4</th>\n",
       "      <th>0.6</th>\n",
       "      <th>0.8</th>\n",
       "      <th>1</th>\n",
       "      <th>1.2</th>\n",
       "      <th>...</th>\n",
       "      <th>.608</th>\n",
       "      <th>.609</th>\n",
       "      <th>.610</th>\n",
       "      <th>.611</th>\n",
       "      <th>.612</th>\n",
       "      <th>.613</th>\n",
       "      <th>.614</th>\n",
       "      <th>.615</th>\n",
       "      <th>.616</th>\n",
       "      <th>.617</th>\n",
       "    </tr>\n",
       "  </thead>\n",
       "  <tbody>\n",
       "    <tr>\n",
       "      <th>0</th>\n",
       "      <td>1</td>\n",
       "      <td>1</td>\n",
       "      <td>1</td>\n",
       "      <td>7.422726</td>\n",
       "      <td>0.189000</td>\n",
       "      <td>0.184000</td>\n",
       "      <td>0.17600</td>\n",
       "      <td>0.166000</td>\n",
       "      <td>0.153000</td>\n",
       "      <td>0.139000</td>\n",
       "      <td>...</td>\n",
       "      <td>NaN</td>\n",
       "      <td>NaN</td>\n",
       "      <td>NaN</td>\n",
       "      <td>NaN</td>\n",
       "      <td>NaN</td>\n",
       "      <td>NaN</td>\n",
       "      <td>NaN</td>\n",
       "      <td>NaN</td>\n",
       "      <td>NaN</td>\n",
       "      <td>NaN</td>\n",
       "    </tr>\n",
       "    <tr>\n",
       "      <th>1</th>\n",
       "      <td>2</td>\n",
       "      <td>1</td>\n",
       "      <td>3</td>\n",
       "      <td>7.929872</td>\n",
       "      <td>0.157000</td>\n",
       "      <td>0.153000</td>\n",
       "      <td>0.14600</td>\n",
       "      <td>0.138000</td>\n",
       "      <td>0.127000</td>\n",
       "      <td>0.115000</td>\n",
       "      <td>...</td>\n",
       "      <td>NaN</td>\n",
       "      <td>NaN</td>\n",
       "      <td>NaN</td>\n",
       "      <td>NaN</td>\n",
       "      <td>NaN</td>\n",
       "      <td>NaN</td>\n",
       "      <td>NaN</td>\n",
       "      <td>NaN</td>\n",
       "      <td>NaN</td>\n",
       "      <td>NaN</td>\n",
       "    </tr>\n",
       "    <tr>\n",
       "      <th>2</th>\n",
       "      <td>3</td>\n",
       "      <td>1</td>\n",
       "      <td>5</td>\n",
       "      <td>8.414797</td>\n",
       "      <td>0.051500</td>\n",
       "      <td>0.050100</td>\n",
       "      <td>0.04790</td>\n",
       "      <td>0.045100</td>\n",
       "      <td>0.041600</td>\n",
       "      <td>0.037700</td>\n",
       "      <td>...</td>\n",
       "      <td>NaN</td>\n",
       "      <td>NaN</td>\n",
       "      <td>NaN</td>\n",
       "      <td>NaN</td>\n",
       "      <td>NaN</td>\n",
       "      <td>NaN</td>\n",
       "      <td>NaN</td>\n",
       "      <td>NaN</td>\n",
       "      <td>NaN</td>\n",
       "      <td>NaN</td>\n",
       "    </tr>\n",
       "    <tr>\n",
       "      <th>3</th>\n",
       "      <td>4</td>\n",
       "      <td>1</td>\n",
       "      <td>7</td>\n",
       "      <td>8.869475</td>\n",
       "      <td>0.006690</td>\n",
       "      <td>0.006510</td>\n",
       "      <td>0.00622</td>\n",
       "      <td>0.005850</td>\n",
       "      <td>0.005400</td>\n",
       "      <td>0.004880</td>\n",
       "      <td>...</td>\n",
       "      <td>NaN</td>\n",
       "      <td>NaN</td>\n",
       "      <td>NaN</td>\n",
       "      <td>NaN</td>\n",
       "      <td>NaN</td>\n",
       "      <td>NaN</td>\n",
       "      <td>NaN</td>\n",
       "      <td>NaN</td>\n",
       "      <td>NaN</td>\n",
       "      <td>NaN</td>\n",
       "    </tr>\n",
       "    <tr>\n",
       "      <th>4</th>\n",
       "      <td>5</td>\n",
       "      <td>1</td>\n",
       "      <td>9</td>\n",
       "      <td>9.286063</td>\n",
       "      <td>0.000579</td>\n",
       "      <td>0.000559</td>\n",
       "      <td>0.00052</td>\n",
       "      <td>0.000465</td>\n",
       "      <td>0.000396</td>\n",
       "      <td>0.000317</td>\n",
       "      <td>...</td>\n",
       "      <td>NaN</td>\n",
       "      <td>NaN</td>\n",
       "      <td>NaN</td>\n",
       "      <td>NaN</td>\n",
       "      <td>NaN</td>\n",
       "      <td>NaN</td>\n",
       "      <td>NaN</td>\n",
       "      <td>NaN</td>\n",
       "      <td>NaN</td>\n",
       "      <td>NaN</td>\n",
       "    </tr>\n",
       "  </tbody>\n",
       "</table>\n",
       "<p>5 rows × 839 columns</p>\n",
       "</div>"
      ],
      "text/plain": [
       "   Sensor ID  x-cordinate  y-cordinate  Distibution Values       0.2  \\\n",
       "0          1            1            1            7.422726  0.189000   \n",
       "1          2            1            3            7.929872  0.157000   \n",
       "2          3            1            5            8.414797  0.051500   \n",
       "3          4            1            7            8.869475  0.006690   \n",
       "4          5            1            9            9.286063  0.000579   \n",
       "\n",
       "        0.4      0.6       0.8         1       1.2  ...     .608   .609  \\\n",
       "0  0.184000  0.17600  0.166000  0.153000  0.139000  ...      NaN    NaN   \n",
       "1  0.153000  0.14600  0.138000  0.127000  0.115000  ...      NaN    NaN   \n",
       "2  0.050100  0.04790  0.045100  0.041600  0.037700  ...      NaN    NaN   \n",
       "3  0.006510  0.00622  0.005850  0.005400  0.004880  ...      NaN    NaN   \n",
       "4  0.000559  0.00052  0.000465  0.000396  0.000317  ...      NaN    NaN   \n",
       "\n",
       "    .610   .611   .612   .613   .614   .615   .616   .617  \n",
       "0    NaN    NaN    NaN    NaN    NaN    NaN    NaN    NaN  \n",
       "1    NaN    NaN    NaN    NaN    NaN    NaN    NaN    NaN  \n",
       "2    NaN    NaN    NaN    NaN    NaN    NaN    NaN    NaN  \n",
       "3    NaN    NaN    NaN    NaN    NaN    NaN    NaN    NaN  \n",
       "4    NaN    NaN    NaN    NaN    NaN    NaN    NaN    NaN  \n",
       "\n",
       "[5 rows x 839 columns]"
      ]
     },
     "execution_count": 145,
     "metadata": {},
     "output_type": "execute_result"
    }
   ],
   "source": [
    "from __future__ import division, print_function, unicode_literals\n",
    "\n",
    "import numpy as np\n",
    "import pandas as pd\n",
    "import tensorflow as tf\n",
    "get_ipython().magic(u'matplotlib inline')\n",
    "import matplotlib\n",
    "import matplotlib.pyplot as plt\n",
    "\n",
    "from matplotlib.mlab import PCA\n",
    "print(tf.__version__)\n",
    "print(np.__version__)\n",
    "print(pd.__version__)\n",
    "print(matplotlib.__version__)\n",
    "Data = pd.read_csv('C:/Users/muneeba/Desktop/THESIS/DataDistributionPCA.csv')\n",
    "Data.head()\n",
    "#importing librarie and setting up packages\n",
    "#reading the CSV file containing data"
   ]
  },
  {
   "cell_type": "code",
   "execution_count": 147,
   "metadata": {},
   "outputs": [
    {
     "data": {
      "text/html": [
       "<div>\n",
       "<style>\n",
       "    .dataframe thead tr:only-child th {\n",
       "        text-align: right;\n",
       "    }\n",
       "\n",
       "    .dataframe thead th {\n",
       "        text-align: left;\n",
       "    }\n",
       "\n",
       "    .dataframe tbody tr th {\n",
       "        vertical-align: top;\n",
       "    }\n",
       "</style>\n",
       "<table border=\"1\" class=\"dataframe\">\n",
       "  <thead>\n",
       "    <tr style=\"text-align: right;\">\n",
       "      <th></th>\n",
       "      <th>0.2</th>\n",
       "      <th>0.4</th>\n",
       "      <th>0.6</th>\n",
       "      <th>0.8</th>\n",
       "      <th>1</th>\n",
       "      <th>1.2</th>\n",
       "      <th>1.4</th>\n",
       "      <th>1.6</th>\n",
       "      <th>1.8</th>\n",
       "      <th>2</th>\n",
       "      <th>...</th>\n",
       "      <th>11</th>\n",
       "      <th>11.2</th>\n",
       "      <th>11.4</th>\n",
       "      <th>11.6</th>\n",
       "      <th>11.8</th>\n",
       "      <th>12</th>\n",
       "      <th>12.2</th>\n",
       "      <th>12.4</th>\n",
       "      <th>12.6</th>\n",
       "      <th>12.8</th>\n",
       "    </tr>\n",
       "  </thead>\n",
       "  <tbody>\n",
       "    <tr>\n",
       "      <th>0</th>\n",
       "      <td>0.189000</td>\n",
       "      <td>0.184000</td>\n",
       "      <td>0.17600</td>\n",
       "      <td>0.166000</td>\n",
       "      <td>0.153000</td>\n",
       "      <td>0.139000</td>\n",
       "      <td>0.122000</td>\n",
       "      <td>0.105000</td>\n",
       "      <td>0.086500</td>\n",
       "      <td>0.067300</td>\n",
       "      <td>...</td>\n",
       "      <td>0.056300</td>\n",
       "      <td>0.051000</td>\n",
       "      <td>0.045000</td>\n",
       "      <td>0.038600</td>\n",
       "      <td>0.03180</td>\n",
       "      <td>0.024800</td>\n",
       "      <td>0.017600</td>\n",
       "      <td>0.010500</td>\n",
       "      <td>0.003440</td>\n",
       "      <td>-0.003370</td>\n",
       "    </tr>\n",
       "    <tr>\n",
       "      <th>1</th>\n",
       "      <td>0.157000</td>\n",
       "      <td>0.153000</td>\n",
       "      <td>0.14600</td>\n",
       "      <td>0.138000</td>\n",
       "      <td>0.127000</td>\n",
       "      <td>0.115000</td>\n",
       "      <td>0.102000</td>\n",
       "      <td>0.087100</td>\n",
       "      <td>0.071800</td>\n",
       "      <td>0.055900</td>\n",
       "      <td>...</td>\n",
       "      <td>0.046800</td>\n",
       "      <td>0.042300</td>\n",
       "      <td>0.037400</td>\n",
       "      <td>0.032000</td>\n",
       "      <td>0.02640</td>\n",
       "      <td>0.020600</td>\n",
       "      <td>0.014600</td>\n",
       "      <td>0.008700</td>\n",
       "      <td>0.002860</td>\n",
       "      <td>-0.002800</td>\n",
       "    </tr>\n",
       "    <tr>\n",
       "      <th>2</th>\n",
       "      <td>0.051500</td>\n",
       "      <td>0.050100</td>\n",
       "      <td>0.04790</td>\n",
       "      <td>0.045100</td>\n",
       "      <td>0.041600</td>\n",
       "      <td>0.037700</td>\n",
       "      <td>0.033300</td>\n",
       "      <td>0.028500</td>\n",
       "      <td>0.023500</td>\n",
       "      <td>0.018300</td>\n",
       "      <td>...</td>\n",
       "      <td>0.015300</td>\n",
       "      <td>0.013900</td>\n",
       "      <td>0.012200</td>\n",
       "      <td>0.010500</td>\n",
       "      <td>0.00865</td>\n",
       "      <td>0.006730</td>\n",
       "      <td>0.004790</td>\n",
       "      <td>0.002850</td>\n",
       "      <td>0.000934</td>\n",
       "      <td>-0.000918</td>\n",
       "    </tr>\n",
       "    <tr>\n",
       "      <th>3</th>\n",
       "      <td>0.006690</td>\n",
       "      <td>0.006510</td>\n",
       "      <td>0.00622</td>\n",
       "      <td>0.005850</td>\n",
       "      <td>0.005400</td>\n",
       "      <td>0.004880</td>\n",
       "      <td>0.004300</td>\n",
       "      <td>0.003680</td>\n",
       "      <td>0.003020</td>\n",
       "      <td>0.002340</td>\n",
       "      <td>...</td>\n",
       "      <td>0.001990</td>\n",
       "      <td>0.001800</td>\n",
       "      <td>0.001580</td>\n",
       "      <td>0.001350</td>\n",
       "      <td>0.00111</td>\n",
       "      <td>0.000858</td>\n",
       "      <td>0.000604</td>\n",
       "      <td>0.000351</td>\n",
       "      <td>0.000103</td>\n",
       "      <td>-0.000136</td>\n",
       "    </tr>\n",
       "    <tr>\n",
       "      <th>4</th>\n",
       "      <td>0.000579</td>\n",
       "      <td>0.000559</td>\n",
       "      <td>0.00052</td>\n",
       "      <td>0.000465</td>\n",
       "      <td>0.000396</td>\n",
       "      <td>0.000317</td>\n",
       "      <td>0.000233</td>\n",
       "      <td>0.000147</td>\n",
       "      <td>0.000063</td>\n",
       "      <td>-0.000015</td>\n",
       "      <td>...</td>\n",
       "      <td>0.000163</td>\n",
       "      <td>0.000127</td>\n",
       "      <td>0.000088</td>\n",
       "      <td>0.000048</td>\n",
       "      <td>0.00001</td>\n",
       "      <td>-0.000025</td>\n",
       "      <td>-0.000056</td>\n",
       "      <td>-0.000080</td>\n",
       "      <td>-0.000098</td>\n",
       "      <td>-0.000109</td>\n",
       "    </tr>\n",
       "  </tbody>\n",
       "</table>\n",
       "<p>5 rows × 64 columns</p>\n",
       "</div>"
      ],
      "text/plain": [
       "        0.2       0.4      0.6       0.8         1       1.2       1.4  \\\n",
       "0  0.189000  0.184000  0.17600  0.166000  0.153000  0.139000  0.122000   \n",
       "1  0.157000  0.153000  0.14600  0.138000  0.127000  0.115000  0.102000   \n",
       "2  0.051500  0.050100  0.04790  0.045100  0.041600  0.037700  0.033300   \n",
       "3  0.006690  0.006510  0.00622  0.005850  0.005400  0.004880  0.004300   \n",
       "4  0.000579  0.000559  0.00052  0.000465  0.000396  0.000317  0.000233   \n",
       "\n",
       "        1.6       1.8         2    ...           11      11.2      11.4  \\\n",
       "0  0.105000  0.086500  0.067300    ...     0.056300  0.051000  0.045000   \n",
       "1  0.087100  0.071800  0.055900    ...     0.046800  0.042300  0.037400   \n",
       "2  0.028500  0.023500  0.018300    ...     0.015300  0.013900  0.012200   \n",
       "3  0.003680  0.003020  0.002340    ...     0.001990  0.001800  0.001580   \n",
       "4  0.000147  0.000063 -0.000015    ...     0.000163  0.000127  0.000088   \n",
       "\n",
       "       11.6     11.8        12      12.2      12.4      12.6      12.8  \n",
       "0  0.038600  0.03180  0.024800  0.017600  0.010500  0.003440 -0.003370  \n",
       "1  0.032000  0.02640  0.020600  0.014600  0.008700  0.002860 -0.002800  \n",
       "2  0.010500  0.00865  0.006730  0.004790  0.002850  0.000934 -0.000918  \n",
       "3  0.001350  0.00111  0.000858  0.000604  0.000351  0.000103 -0.000136  \n",
       "4  0.000048  0.00001 -0.000025 -0.000056 -0.000080 -0.000098 -0.000109  \n",
       "\n",
       "[5 rows x 64 columns]"
      ]
     },
     "execution_count": 147,
     "metadata": {},
     "output_type": "execute_result"
    }
   ],
   "source": [
    "Data=Data.sort_values(['Sensor ID'],ascending=[True])\n",
    "Data1=Data.iloc[:,4:68]\n",
    "Data1.head()\n",
    "returns = Data1[[key for key in dict(Data1.dtypes) if dict(Data1.dtypes)[key] in ['float64', 'int64']]] \n",
    "returns = returns[:64]\n",
    "returns.head()\n",
    "#slicing the required data out of complete dataset"
   ]
  },
  {
   "cell_type": "code",
   "execution_count": 148,
   "metadata": {},
   "outputs": [
    {
     "data": {
      "text/plain": [
       "array([[-0.11202307, -0.11066241, -0.10601446, ...,  0.18710249,\n",
       "         0.18516073,  0.18207744],\n",
       "       [ 0.01130641,  0.0103912 ,  0.00538767, ..., -0.00361847,\n",
       "        -0.01967828, -0.03223114],\n",
       "       [-0.213816  , -0.21528193, -0.22012926, ...,  0.03945162,\n",
       "         0.04902917,  0.06024193],\n",
       "       ..., \n",
       "       [ 0.        ,  0.04924571, -0.01020598, ..., -0.01048463,\n",
       "        -0.08917354,  0.05107832],\n",
       "       [ 0.        , -0.09560754,  0.13346567, ...,  0.01423669,\n",
       "        -0.03575918,  0.15400055],\n",
       "       [ 0.        ,  0.13472866, -0.05955951, ...,  0.21990835,\n",
       "        -0.03179111,  0.09142336]])"
      ]
     },
     "execution_count": 148,
     "metadata": {},
     "output_type": "execute_result"
    }
   ],
   "source": [
    "returns_arr = returns.as_matrix()[:64]\n",
    "returns_arr.shape\n",
    "from sklearn.preprocessing import StandardScaler\n",
    "scaler = StandardScaler()\n",
    "returns_arr_scaled = scaler.fit_transform(returns_arr)\n",
    "#returns_arr_scaled1=returns_arr_scaled.T\n",
    "#returns_arr_scaled=returns_arr\n",
    "returns_arr_scaled\n",
    "results = PCA(returns_arr_scaled, standardize=False)\n",
    "results.fracs\n",
    "results.Y\n",
    "results.Wt\n",
    "#constructing matrix out of data set\n",
    "#performing PCA getting the required fractions and wieghts"
   ]
  },
  {
   "cell_type": "code",
   "execution_count": 149,
   "metadata": {},
   "outputs": [
    {
     "data": {
      "text/plain": [
       "9.7089324630386109e-05"
      ]
     },
     "execution_count": 149,
     "metadata": {},
     "output_type": "execute_result"
    }
   ],
   "source": [
    "#recovered=np.dot(results.Y, results.Wt)\n",
    "recovered=np.dot(results.Y[:,[0,1,2,3,4,5,6,7,8,9,10,11,12,13,14,15,16,17,18,19]], results.Wt[[0,1,2,3,4,5,6,7,8,9,10,11,12,13,14,15,16,17,18,19]])\n",
    "data=scaler.inverse_transform(recovered,copy=None)\n",
    "#recovered\n",
    "#data\n",
    "orig=np.linalg.norm(returns_arr,ord=1)\n",
    "DiffData=data-returns_arr\n",
    "NewNorm=np.linalg.norm(DiffData,ord=1)\n",
    "error=NewNorm/orig \n",
    "error\n",
    "#recovering the orignal data\n",
    "#bringing data back to normal scale\n",
    "#finding error"
   ]
  },
  {
   "cell_type": "code",
   "execution_count": 130,
   "metadata": {},
   "outputs": [
    {
     "data": {
      "image/png": "[encoded data removed]",
      "text/plain": [
       "<matplotlib.figure.Figure at 0x957309be10>"
      ]
     },
     "metadata": {},
     "output_type": "display_data"
    }
   ],
   "source": [
    "plt.plot( data[0:60,0],data[0:60,1], 'o', markersize=5, color='blue', alpha=0.5, label='orignal data')\n",
    "plt.plot(returns_arr[0:60,0], returns_arr[0:60,1], '^', markersize=5, color='red', alpha=0.5, label='transformed data')\n",
    "\n",
    "plt.xlabel('x_values')\n",
    "plt.ylabel('y_values')\n",
    "plt.xlim([-0.01,0.4])\n",
    "plt.ylim([-0.01,0.4])\n",
    "plt.legend()\n",
    "plt.title('Transformed samples with class labels from matplotlib.mlab.PCA()')\n",
    "\n",
    "plt.show()\n",
    " \n",
    "#transformed data and orignal data.comparison"
   ]
  },
  {
   "cell_type": "code",
   "execution_count": 150,
   "metadata": {
    "collapsed": true
   },
   "outputs": [],
   "source": [
    "cov_mat = np.cov(Data1)\n",
    "#np.savetxt(\"covmat1.csv\", cov_mat, delimiter=\",\")\n",
    "#np.argmin(cov_mat)\n",
    "indices = np.where(cov_mat >=cov_mat.min())\n",
    "x_y_coords =  zip(indices[0], indices[1]) \n",
    "#finding covariance that is not needed now"
   ]
  },
  {
   "cell_type": "code",
   "execution_count": 151,
   "metadata": {},
   "outputs": [
    {
     "data": {
      "text/plain": [
       "1326"
      ]
     },
     "execution_count": 151,
     "metadata": {},
     "output_type": "execute_result"
    }
   ],
   "source": [
    "a=np.corrcoef(Data1,rowvar=True)\n",
    "i=0\n",
    "j=0\n",
    "\n",
    "for step1 in range(64):\n",
    "    for step in range(64):\n",
    "       if (a[step1][step]):\n",
    "           i+=1\n",
    "l=np.zeros((64,64))        \n",
    "c=np.triu(a)\n",
    "k=0\n",
    "for step1 in range(64):\n",
    "    for step in range(64):\n",
    "       if (c[step1][step]) > 0 and (c[step1][step]) <= 0.8 :\n",
    "           l[step1][step]=c[step1][step]\n",
    "           j+=1\n",
    "          \n",
    "      \n",
    "          \n",
    "rows_without_zeros = data[~np.any(l==0, axis=1)]\n",
    "rows_without_zeros\n",
    "np.shape(l)\n",
    "j\n",
    "#finding the sensor which fullfull the corelation threshold"
   ]
  },
  {
   "cell_type": "code",
   "execution_count": 227,
   "metadata": {},
   "outputs": [
    {
     "data": {
      "text/plain": [
       "(64, 64)"
      ]
     },
     "execution_count": 227,
     "metadata": {},
     "output_type": "execute_result"
    }
   ],
   "source": [
    "datadiff=[]\n",
    "step1=0\n",
    "for step in range(64):\n",
    "    step1=step-1\n",
    "    diff=Data1.iloc[:,step]-Data1.iloc[:,step1]\n",
    "    datadiff.append(diff[:])\n",
    "        \n",
    "np.shape(datadiff)\n",
    "#finding the data differnce matrix "
   ]
  },
  {
   "cell_type": "code",
   "execution_count": 228,
   "metadata": {},
   "outputs": [
    {
     "data": {
      "text/plain": [
       "682"
      ]
     },
     "execution_count": 228,
     "metadata": {},
     "output_type": "execute_result"
    }
   ],
   "source": [
    "kk=10**3\n",
    "datathreshold=kk * np.array(datadiff)\n",
    "k=0\n",
    "l1=np.zeros((64,64))\n",
    "np.shape(datathreshold)\n",
    "for step1 in range(64):\n",
    "    for step in range(64):\n",
    "       if (abs(datathreshold[step1][step]))>=10:\n",
    "           l1[step1][step]=datathreshold[step1][step]\n",
    "           k+=1\n",
    "        \n",
    "        \n",
    "k\n",
    "#setting up data thresold"
   ]
  },
  {
   "cell_type": "code",
   "execution_count": 260,
   "metadata": {},
   "outputs": [
    {
     "data": {
      "text/plain": [
       "21"
      ]
     },
     "execution_count": 260,
     "metadata": {},
     "output_type": "execute_result"
    }
   ],
   "source": [
    "#clustering\n",
    "clustermembers=0\n",
    "counta=0\n",
    "clusterA=np.zeros((64,64))\n",
    "countb=0\n",
    "clusterB=np.zeros((64,64))\n",
    "countc=0\n",
    "clusterC=np.zeros((64,64))\n",
    "for step1 in range(64):\n",
    "    for step in range(64):\n",
    "       if (l1[step1][step]>0):\n",
    "         if (l[step1][step]>0):\n",
    "           clustermembers+=1\n",
    "           if(clustermembers<=25):\n",
    "               clusterA[step1][step]=returns_arr[step1][step]                \n",
    "               counta+=1\n",
    "           if(clustermembers>25) and (clustermembers<=50):\n",
    "               clusterB[step1][step]=returns_arr[step1][step]                \n",
    "               countb+=1\n",
    "           if(clustermembers>50):\n",
    "               clusterC[step1][step]=returns_arr[step1][step]                \n",
    "               countc+=1\n",
    "     \n",
    "        \n",
    "            \n",
    "#number of nodes satisfying both the thresholds            \n",
    "clustermembers\n",
    "\n",
    "clusterA\n",
    "np.count_nonzero(clusterC)\n",
    " "
   ]
  },
  {
   "cell_type": "code",
   "execution_count": null,
   "metadata": {},
   "outputs": [],
   "source": []
  },
  {
   "cell_type": "code",
   "execution_count": 264,
   "metadata": {},
   "outputs": [
    {
     "data": {
      "text/plain": [
       "4025"
      ]
     },
     "execution_count": 264,
     "metadata": {},
     "output_type": "execute_result"
    }
   ],
   "source": [
    "#clusters of remaining members not satisfying threshold\n",
    "#larger clusters made \n",
    "clustermembersrRemaining=0\n",
    "countd=0\n",
    "clusterD=np.zeros((64,64))\n",
    "counte=0\n",
    "clusterE=np.zeros((64,64))\n",
    "countf=0\n",
    "clusterF=np.zeros((64,64))\n",
    "countg=0\n",
    "clusterG=np.zeros((64,64))\n",
    "counth=0\n",
    "clusterH=np.zeros((64,64))\n",
    "for step1 in range(64):\n",
    "    for step in range(64):\n",
    "        clustermembersrRemaining+=1\n",
    "        if(clustermembersrRemaining>=72) :#and (clustermembersrRemaining<=1072):\n",
    "            clusterD[step1][step]=returns_arr[step1][step]\n",
    "            countd+=1\n",
    "       # if(clustermembersrRemaining>1072) and (clustermembersrRemaining<2072):\n",
    "          #  clusterE[step1][step]=returns_arr[step1][step]\n",
    "            #counte+=1\n",
    "       # if(clustermembersrRemaining>=2072)and clustermembersrRemaining<3072:\n",
    "          #  clusterF[step1][step]=returns_arr[step1][step]\n",
    "           # countf+=1\n",
    "       # if(clustermembersrRemaining>=3072)and clustermembersrRemaining<=4072:\n",
    "        #    clusterG[step1][step]=returns_arr[step1][step]\n",
    "           # countg+=1\n",
    "       # if(clustermembersrRemaining>4072):\n",
    "        #    clusterH[step1][step]=returns_arr[step1][step]\n",
    "            counth+=1\n",
    "        #    \n",
    "#countf+countd+counte+countg+counth\n",
    "countd\n",
    "np.count_nonzero(clusterD)"
   ]
  },
  {
   "cell_type": "code",
   "execution_count": 265,
   "metadata": {},
   "outputs": [
    {
     "data": {
      "text/plain": [
       "90"
      ]
     },
     "execution_count": 265,
     "metadata": {},
     "output_type": "execute_result"
    }
   ],
   "source": [
    "#finding the nodes which donot satisfy the threshold\n",
    "#finding the nodes which donot satisfy the threshold\n",
    "DatasetWithoutA=np.subtract(returns_arr,clusterA)\n",
    "DatasetWithoutAB=np.subtract(DatasetWithoutA,clusterB)\n",
    "DatasetWithoutABC=np.subtract(DatasetWithoutAB,clusterC)\n",
    "DatasetWithoutABCD=np.subtract(DatasetWithoutABC,clusterD)\n",
    "#DatasetWithoutABCDE=np.subtract(DatasetWithoutABCD,clusterE)\n",
    "#DatasetWithoutABCDEF=np.subtract(DatasetWithoutABCDE,clusterF)\n",
    "#DatasetWithoutABCDEFG=np.subtract(DatasetWithoutABCDEF,clusterG)\n",
    "#DatasetWithoutABCDEFGH=np.subtract(DatasetWithoutABCDEFG,clusterH)\n",
    "np.count_nonzero(DatasetWithoutABCD)"
   ]
  },
  {
   "cell_type": "code",
   "execution_count": 203,
   "metadata": {},
   "outputs": [
    {
     "data": {
      "text/plain": [
       "52"
      ]
     },
     "execution_count": 203,
     "metadata": {},
     "output_type": "execute_result"
    }
   ],
   "source": [
    "DataSend=np.zeros((64,64))\n",
    "DataSend=np.add(DataSend,clusterA)\n",
    "DataSend=np.add(DataSend,clusterB)\n",
    "DataSend=np.add(DataSend,clusterC)\n",
    "DataSend=np.add(DataSend,clusterD)\n",
    "DataSend=np.add(DataSend,clusterE)\n",
    "DataSend=np.add(DataSend,clusterF)\n",
    "np.count_nonzero(DataSend)\n",
    "rows_without_zeros = data[~np.any(DataSend==0, axis=0)]\n",
    "rows_without_zeros\n",
    "DataSend.shape\n",
    "np.count_nonzero(DataSend)\n",
    "rows_without_zeros\n",
    "np.count_nonzero(DataSend)"
   ]
  },
  {
   "cell_type": "code",
   "execution_count": 196,
   "metadata": {},
   "outputs": [
    {
     "data": {
      "text/plain": [
       "(3, 4)"
      ]
     },
     "execution_count": 196,
     "metadata": {},
     "output_type": "execute_result"
    }
   ],
   "source": [
    "arr = np.array([[1,2,3,4], [5,6,7,8], [9,10,11,12]])\n",
    "np.shape(arr)\n",
    " \n",
    "np.delete(arr, 2,0)\n",
    "np.shape(arr)"
   ]
  },
  {
   "cell_type": "code",
   "execution_count": null,
   "metadata": {
    "collapsed": true
   },
   "outputs": [],
   "source": []
  },
  {
   "cell_type": "code",
   "execution_count": null,
   "metadata": {
    "collapsed": true
   },
   "outputs": [],
   "source": []
  },
  {
   "cell_type": "code",
   "execution_count": null,
   "metadata": {
    "collapsed": true
   },
   "outputs": [],
   "source": []
  },
  {
   "cell_type": "code",
   "execution_count": null,
   "metadata": {
    "collapsed": true
   },
   "outputs": [],
   "source": []
  },
  {
   "cell_type": "code",
   "execution_count": null,
   "metadata": {
    "collapsed": true
   },
   "outputs": [],
   "source": []
  }
 ],
 "metadata": {
  "kernelspec": {
   "display_name": "Python 3",
   "language": "python",
   "name": "python3"
  },
  "language_info": {
   "codemirror_mode": {
    "name": "ipython",
    "version": 3
   },
   "file_extension": ".py",
   "mimetype": "text/x-python",
   "name": "python",
   "nbconvert_exporter": "python",
   "pygments_lexer": "ipython3",
   "version": "3.6.3"
  }
 },
 "nbformat": 4,
 "nbformat_minor": 2
}
